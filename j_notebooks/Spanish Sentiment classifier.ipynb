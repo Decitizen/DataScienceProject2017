{
 "cells": [
  {
   "cell_type": "code",
   "execution_count": 1,
   "metadata": {
    "collapsed": true
   },
   "outputs": [],
   "source": [
    "import nltk  \n",
    "import pandas as pd\n",
    "from sklearn.model_selection import train_test_split\n",
    "from nltk.corpus import stopwords  \n",
    "from nltk import word_tokenize  \n",
    "from nltk.data import load  \n",
    "from nltk.stem import SnowballStemmer  \n",
    "from string import punctuation  \n",
    "from sklearn.feature_extraction.text import CountVectorizer       \n",
    "from collections import Counter\n",
    "from sklearn.pipeline import Pipeline\n",
    "from sklearn.model_selection import cross_val_score\n",
    "from sklearn.svm import LinearSVC"
   ]
  },
  {
   "cell_type": "markdown",
   "metadata": {},
   "source": [
    "# Spanish sentiment analysis\n",
    "Classification of political sentiment is extremely difficult task. It is also highly questionable to use simplistic sentiment scales combined with classifying algorithms to represent real political stances. However our purpose here is to mainly just try what kind of results simple algorithms like scikit-learn's linear SVC could yield us with very limited amount of training data. \n",
    "\n",
    "### Training data\n",
    "Models are only as good as the training data that they have been trained with.\n",
    "As the spanish training data we are using the TASS dataset which is annual machine learning workshop for spanish natural language processing enthusiastics and researchers arranged by Spanish Society for Natural Language Processing [SEPLN]. This training data set is collected from 2011-2013 and it has global coverage of spanish-speaking countries. Messages also cover various different areas of life from Spain's interior politics to world politics and economics. \n",
    "\n",
    "* This is based on [Manuel Garrido's great blog-post.](http://blog.manugarri.com/sentiment-analysis-in-spanish/) \n",
    "\n",
    "Let's start by reading in all the labeled training data we have + the dataset that we want classify"
   ]
  },
  {
   "cell_type": "code",
   "execution_count": 3,
   "metadata": {
    "collapsed": true
   },
   "outputs": [],
   "source": [
    "train_data1 = pd.read_csv(\"general-tweets-train-tagged.csv\")\n",
    "train_data2 = pd.read_csv(\"general-tweets-train2-tagged.csv\")\n",
    "train_data3 = pd.read_csv(\"socialtv-tweets-train-tagged.csv\")\n",
    "train_data4 = pd.read_csv(\"stompol-tweets-train-tagged.csv\")"
   ]
  },
  {
   "cell_type": "code",
   "execution_count": null,
   "metadata": {
    "collapsed": true
   },
   "outputs": [],
   "source": [
    "# Set col width\n",
    "pd.options.display.max_colwidth = 300"
   ]
  },
  {
   "cell_type": "markdown",
   "metadata": {},
   "source": [
    "##### Merge training data to one set"
   ]
  },
  {
   "cell_type": "code",
   "execution_count": 4,
   "metadata": {
    "collapsed": true
   },
   "outputs": [],
   "source": [
    "train_data_set = pd.concat([train_data1,train_data2,train_data3,train_data4])"
   ]
  },
  {
   "cell_type": "markdown",
   "metadata": {},
   "source": [
    "### Pre-Processing TASS training data"
   ]
  },
  {
   "cell_type": "code",
   "execution_count": 5,
   "metadata": {
    "collapsed": true
   },
   "outputs": [],
   "source": [
    "from sklearn.utils import shuffle\n",
    "train_data_set = shuffle(train_data_set, random_state=224)"
   ]
  },
  {
   "cell_type": "code",
   "execution_count": 6,
   "metadata": {
    "collapsed": true
   },
   "outputs": [],
   "source": [
    "train_data_set = train_data_set.query('agreement != \"DISAGREEMENT\" and polarity != \"NONE\"')"
   ]
  },
  {
   "cell_type": "code",
   "execution_count": 7,
   "metadata": {},
   "outputs": [
    {
     "name": "stderr",
     "output_type": "stream",
     "text": [
      "/home/saaville/anaconda3/envs/deepenv1/lib/python3.6/site-packages/ipykernel/__main__.py:4: SettingWithCopyWarning: \n",
      "A value is trying to be set on a copy of a slice from a DataFrame\n",
      "\n",
      "See the caveats in the documentation: http://pandas.pydata.org/pandas-docs/stable/indexing.html#indexing-view-versus-copy\n"
     ]
    },
    {
     "data": {
      "text/plain": [
       "1    0.543326\n",
       "0    0.456674\n",
       "Name: pol_polarity, dtype: float64"
      ]
     },
     "execution_count": 7,
     "metadata": {},
     "output_type": "execute_result"
    }
   ],
   "source": [
    "train_data_set = train_data_set[train_data_set.polarity != 'NEU']\n",
    "\n",
    "train_data_set['pol_polarity'] = [0 for i in range(len(train_data_set))]\n",
    "train_data_set.pol_polarity[train_data_set.polarity.isin(['P', 'P+'])] = 1\n",
    "train_data_set.pol_polarity.value_counts(normalize=True)"
   ]
  },
  {
   "cell_type": "code",
   "execution_count": 8,
   "metadata": {
    "collapsed": true
   },
   "outputs": [],
   "source": [
    "# train_data, test_data = train_test_split(train_data_set, test_size=0.2)\n",
    "train_data = train_data_set"
   ]
  },
  {
   "cell_type": "code",
   "execution_count": 9,
   "metadata": {},
   "outputs": [
    {
     "data": {
      "text/plain": [
       "(7986, 4)"
      ]
     },
     "execution_count": 9,
     "metadata": {},
     "output_type": "execute_result"
    }
   ],
   "source": [
    "train_data.shape"
   ]
  },
  {
   "cell_type": "markdown",
   "metadata": {},
   "source": [
    "### Pre-Processing the data from Catalonia\n",
    "Our classifier is based on spanish training data, so we want to classify only the portion of our real-world data that is spanish and whose coordinates are within the geographical area of spain. For this purpose we will filter based on Spain's coordinates:"
   ]
  },
  {
   "cell_type": "code",
   "execution_count": 31,
   "metadata": {
    "collapsed": true
   },
   "outputs": [],
   "source": [
    "data = pd.read_json(\"8oct_pre_processed_stemmed.json\", lines=True, orient='records')\n",
    "data_es = data[data['lang'] == 'es']"
   ]
  },
  {
   "cell_type": "code",
   "execution_count": 32,
   "metadata": {
    "collapsed": true
   },
   "outputs": [],
   "source": [
    "max_lat = 43.780513\n",
    "min_lat = 36.317416\n",
    "max_lon = 3.139475\n",
    "min_lon = -9.278242"
   ]
  },
  {
   "cell_type": "code",
   "execution_count": 33,
   "metadata": {
    "collapsed": true,
    "scrolled": false
   },
   "outputs": [],
   "source": [
    "df_real = data[(data['coordinates'].notnull()) & (data['lang'] == 'es')]"
   ]
  },
  {
   "cell_type": "code",
   "execution_count": 34,
   "metadata": {
    "collapsed": true
   },
   "outputs": [],
   "source": [
    "bool_array = []\n",
    "for i in range(df_real.shape[0]):\n",
    "    coord = df_real.iloc[i,0]['coordinates']\n",
    "    if (coord[0] > min_lon) & (coord[0] < max_lon) & (coord[1] > min_lat) & (coord[1] < max_lat):\n",
    "        bool_array.append(True)\n",
    "    else:\n",
    "        bool_array.append(False)"
   ]
  },
  {
   "cell_type": "code",
   "execution_count": 35,
   "metadata": {
    "collapsed": true
   },
   "outputs": [],
   "source": [
    "df_real = df_real[bool_array]"
   ]
  },
  {
   "cell_type": "code",
   "execution_count": 36,
   "metadata": {
    "scrolled": true
   },
   "outputs": [
    {
     "data": {
      "text/plain": [
       "(49, 29)"
      ]
     },
     "execution_count": 36,
     "metadata": {},
     "output_type": "execute_result"
    }
   ],
   "source": [
    "df_real.shape"
   ]
  },
  {
   "cell_type": "markdown",
   "metadata": {},
   "source": [
    "### Setting up a pipeline for text processing"
   ]
  },
  {
   "cell_type": "code",
   "execution_count": 25,
   "metadata": {
    "collapsed": true
   },
   "outputs": [],
   "source": [
    "text_stemmed = data['text']"
   ]
  },
  {
   "cell_type": "code",
   "execution_count": 14,
   "metadata": {
    "collapsed": true
   },
   "outputs": [],
   "source": [
    "#stopword list to use\n",
    "spanish_stopwords = stopwords.words('spanish')\n",
    "\n",
    "#spanish stemmer\n",
    "stemmer = SnowballStemmer('spanish')\n",
    "\n",
    "#punctuation to remove\n",
    "non_words = list(punctuation)  \n",
    "\n",
    "#we add spanish punctuation\n",
    "non_words.extend(['¿', '¡'])  \n",
    "non_words.extend(map(str,range(10)))\n",
    "\n",
    "stemmer = SnowballStemmer('spanish')  \n",
    "\n",
    "def stem_tokens(tokens, stemmer):  \n",
    "    stemmed = []\n",
    "\n",
    "    for item in tokens:\n",
    "        stemmed.append(stemmer.stem(item))\n",
    "    return stemmed\n",
    "\n",
    "def tokenize(text):  \n",
    "    \n",
    "    # remove punctuation\n",
    "    text = ''.join([c for c in text if c not in non_words])\n",
    "    \n",
    "    # tokenize\n",
    "    tokens =  word_tokenize(text)\n",
    "\n",
    "    # stem\n",
    "    try:\n",
    "        stems = stem_tokens(tokens, stemmer)\n",
    "    except Exception as e:\n",
    "        print(e)\n",
    "        print(text)\n",
    "        stems = ['']\n",
    "    return stems\n",
    "\n",
    "vectorizer = CountVectorizer(  \n",
    "                analyzer = 'word',\n",
    "                tokenizer = tokenize,\n",
    "                lowercase = True,\n",
    "                stop_words = spanish_stopwords)"
   ]
  },
  {
   "cell_type": "markdown",
   "metadata": {},
   "source": [
    "## GridsearchCV\n",
    "We used a parameter optimization tool that is integrated into the sklearn library. \n",
    "\n",
    "Here we set up the parameter-search with GridsearchCV. "
   ]
  },
  {
   "cell_type": "code",
   "execution_count": 27,
   "metadata": {
    "collapsed": true
   },
   "outputs": [],
   "source": [
    "from sklearn.model_selection import GridSearchCV"
   ]
  },
  {
   "cell_type": "code",
   "execution_count": 21,
   "metadata": {},
   "outputs": [
    {
     "data": {
      "text/plain": [
       "GridSearchCV(cv=None, error_score='raise',\n",
       "       estimator=Pipeline(memory=None,\n",
       "     steps=[('vect', CountVectorizer(analyzer='word', binary=False, decode_error='strict',\n",
       "        dtype=<class 'numpy.int64'>, encoding='utf-8', input='content',\n",
       "        lowercase=True, max_df=1.0, max_features=None, min_df=1,\n",
       "        ngram_range=(1, 1), preprocessor=None,\n",
       "        stop_words=['de', 'la'...ax_iter=1000,\n",
       "     multi_class='ovr', penalty='l2', random_state=None, tol=0.0001,\n",
       "     verbose=0))]),\n",
       "       fit_params=None, iid=True, n_jobs=-1,\n",
       "       param_grid={'vect__max_df': (0.3, 0.6, 1.4), 'vect__min_df': (10, 20, 50), 'vect__max_features': (250, 500, 1000), 'vect__ngram_range': ((1, 1), (1, 2)), 'cls__C': (0.2, 0.5, 0.7), 'cls__loss': ('hinge', 'squared_hinge'), 'cls__max_iter': (500, 1000)},\n",
       "       pre_dispatch='2*n_jobs', refit=True, return_train_score=True,\n",
       "       scoring='roc_auc', verbose=0)"
      ]
     },
     "execution_count": 21,
     "metadata": {},
     "output_type": "execute_result"
    }
   ],
   "source": [
    "pipeline = Pipeline([  \n",
    "    ('vect', vectorizer),\n",
    "    ('cls', LinearSVC()),\n",
    "])\n",
    "\n",
    "# here we define the parameter space to iterate through\n",
    "parameters = {  \n",
    "#     'vect__max_df': (0.5, 1.9),\n",
    "    'vect__max_df': (0.3, 0.6, 1.4),\n",
    "    'vect__min_df': (10, 20,50),\n",
    "    'vect__max_features': (250, 500, 1000),\n",
    "    'vect__ngram_range': ((1, 1), (1, 2)),  # unigrams or bigrams\n",
    "    'cls__C': (0.2, 0.5, 0.7),\n",
    "    'cls__loss': ('hinge', 'squared_hinge'),\n",
    "    'cls__max_iter': (500, 1000)\n",
    "}\n",
    "\n",
    "grid_search = GridSearchCV(pipeline, parameters, n_jobs=-1 , scoring='roc_auc')  \n",
    "grid_search.fit(train_data.content, train_data.pol_polarity)"
   ]
  },
  {
   "cell_type": "markdown",
   "metadata": {},
   "source": [
    "## Best parameter-values\n",
    "We had to search through a couple of different runs by gridsearch. This was because at first we only tried to use the labeled 'political' training data offered by TASS. However that provided poor results with the test set, accuracy of 0.64. After that we combined the training datasets and in the end managed to acquire a 0.82 accuracy."
   ]
  },
  {
   "cell_type": "code",
   "execution_count": 22,
   "metadata": {
    "scrolled": true
   },
   "outputs": [
    {
     "data": {
      "text/plain": [
       "{'cls__C': 0.2,\n",
       " 'cls__loss': 'hinge',\n",
       " 'cls__max_iter': 1000,\n",
       " 'vect__max_df': 0.6,\n",
       " 'vect__max_features': 1000,\n",
       " 'vect__min_df': 10,\n",
       " 'vect__ngram_range': (1, 1)}"
      ]
     },
     "execution_count": 22,
     "metadata": {},
     "output_type": "execute_result"
    }
   ],
   "source": [
    "grid_search.best_params_"
   ]
  },
  {
   "cell_type": "code",
   "execution_count": 24,
   "metadata": {
    "collapsed": true
   },
   "outputs": [],
   "source": [
    "# New patch with old parameters gives us 0.79\n",
    "model = LinearSVC(C=.2, loss='squared_hinge',max_iter=1000,multi_class='ovr',\n",
    "              random_state=None,\n",
    "              penalty='l2',\n",
    "              tol=0.0001\n",
    ")\n",
    "\n",
    "vectorizer = CountVectorizer(\n",
    "    analyzer = 'word',\n",
    "    tokenizer = tokenize,\n",
    "    lowercase = True,\n",
    "    stop_words = spanish_stopwords,\n",
    "    min_df = 50,\n",
    "    max_df = 1.9,\n",
    "    ngram_range=(1, 1),\n",
    "    max_features=1000\n",
    ")\n",
    "\n",
    "train_data_features = vectorizer.fit_transform(train_data.content)\n",
    "train_data_features_nd = train_data_features.toarray()"
   ]
  },
  {
   "cell_type": "code",
   "execution_count": 25,
   "metadata": {},
   "outputs": [
    {
     "data": {
      "text/plain": [
       "0.7932710446072424"
      ]
     },
     "execution_count": 25,
     "metadata": {},
     "output_type": "execute_result"
    }
   ],
   "source": [
    "scores = cross_val_score(\n",
    "    model,\n",
    "    train_data_features_nd[0:len(train_data)],\n",
    "    y=train_data.pol_polarity,\n",
    "    scoring='roc_auc',\n",
    "    cv=5\n",
    "    )\n",
    "\n",
    "scores.mean()"
   ]
  },
  {
   "cell_type": "code",
   "execution_count": 16,
   "metadata": {
    "collapsed": true
   },
   "outputs": [],
   "source": [
    "# New patch with new gridsearch parameters gives us: 0.82\n",
    "model = LinearSVC(C=.2, loss='squared_hinge',max_iter=1000,multi_class='ovr',\n",
    "              random_state=None,\n",
    "              penalty='l2',\n",
    "              tol=0.0001\n",
    ")\n",
    "\n",
    "vectorizer = CountVectorizer(\n",
    "    analyzer = 'word',\n",
    "    tokenizer = tokenize,\n",
    "    lowercase = True,\n",
    "    stop_words = spanish_stopwords,\n",
    "    min_df = 10,\n",
    "    max_df = 0.6,\n",
    "    ngram_range=(1, 1),\n",
    "    max_features=1000\n",
    ")\n",
    "\n",
    "train_data_features = vectorizer.fit_transform(train_data.content)\n",
    "train_data_features_nd = train_data_features.toarray()"
   ]
  },
  {
   "cell_type": "code",
   "execution_count": 17,
   "metadata": {},
   "outputs": [
    {
     "data": {
      "text/plain": [
       "0.8257057505433586"
      ]
     },
     "execution_count": 17,
     "metadata": {},
     "output_type": "execute_result"
    }
   ],
   "source": [
    "scores = cross_val_score(\n",
    "    model,\n",
    "    train_data_features_nd[0:len(train_data)],\n",
    "    y=train_data.pol_polarity,\n",
    "    scoring='roc_auc',\n",
    "    cv=5\n",
    "    )\n",
    "\n",
    "scores.mean()"
   ]
  },
  {
   "cell_type": "code",
   "execution_count": 26,
   "metadata": {
    "collapsed": true
   },
   "outputs": [],
   "source": [
    "saved_params = model.get_params()"
   ]
  },
  {
   "cell_type": "markdown",
   "metadata": {},
   "source": [
    "# Classification of our data\n",
    "Let's classify a sample"
   ]
  },
  {
   "cell_type": "code",
   "execution_count": 72,
   "metadata": {
    "collapsed": true
   },
   "outputs": [],
   "source": [
    "test_data2 = pd.DataFrame(columns=('content', 'polarity'))\n",
    "test_data2['content'] = list(df_real['text'])"
   ]
  },
  {
   "cell_type": "code",
   "execution_count": 73,
   "metadata": {
    "collapsed": true
   },
   "outputs": [],
   "source": [
    "pipeline = Pipeline([\n",
    "    ('vect', CountVectorizer(\n",
    "            analyzer = 'word',\n",
    "            tokenizer = tokenize,\n",
    "            lowercase = True,\n",
    "            stop_words = spanish_stopwords,\n",
    "            min_df = 10,\n",
    "            max_df = 0.6,\n",
    "            ngram_range=(1, 1),\n",
    "            max_features=1000\n",
    "            )),\n",
    "    ('cls', LinearSVC(C=.2, loss='squared_hinge',max_iter=1000,multi_class='ovr',\n",
    "             random_state=None,\n",
    "             penalty='l2',\n",
    "             tol=0.0001\n",
    "             )),\n",
    "])\n",
    "\n",
    "pipeline.fit(train_data.content, train_data.pol_polarity)\n",
    "\n",
    "test_data2['polarity'] = pipeline.predict(test_data2.content)"
   ]
  },
  {
   "cell_type": "code",
   "execution_count": 114,
   "metadata": {},
   "outputs": [
    {
     "data": {
      "text/html": [
       "<div>\n",
       "<style>\n",
       "    .dataframe thead tr:only-child th {\n",
       "        text-align: right;\n",
       "    }\n",
       "\n",
       "    .dataframe thead th {\n",
       "        text-align: left;\n",
       "    }\n",
       "\n",
       "    .dataframe tbody tr th {\n",
       "        vertical-align: top;\n",
       "    }\n",
       "</style>\n",
       "<table border=\"1\" class=\"dataframe\">\n",
       "  <thead>\n",
       "    <tr style=\"text-align: right;\">\n",
       "      <th></th>\n",
       "      <th>content</th>\n",
       "      <th>polarity</th>\n",
       "      <th>coordinates</th>\n",
       "      <th>tweet_id</th>\n",
       "    </tr>\n",
       "  </thead>\n",
       "  <tbody>\n",
       "    <tr>\n",
       "      <th>1</th>\n",
       "      <td>📈 Top 10 de búsquedas en ⒼⓄⓄⒼⓁⒺ durante las últimas 24 horas:\\n\\n➊ Memes Puigdemont\\n➋ Portugal\\n\\n2017/10/11 00:04 CEST</td>\n",
       "      <td>0</td>\n",
       "      <td>NaN</td>\n",
       "      <td>917873384762908672</td>\n",
       "    </tr>\n",
       "    <tr>\n",
       "      <th>2</th>\n",
       "      <td>📈 Con al menos 10000 búsquedas \"Memes Puigdemont\" es tendencia en Google España https://t.co/lwH0BP7JlW</td>\n",
       "      <td>1</td>\n",
       "      <td>NaN</td>\n",
       "      <td>917872894452965376</td>\n",
       "    </tr>\n",
       "    <tr>\n",
       "      <th>3</th>\n",
       "      <td>🇪🇸CATALUÑ🅰️ Y LA ÚLTIMA H⭕️RA ESPAÑOL🅰️\\n▪️Mariano Rajoy y Pedro Sánchez se reúnen en Moncloa… https://t.co/wEvH7IicP9</td>\n",
       "      <td>0</td>\n",
       "      <td>NaN</td>\n",
       "      <td>917871440610938881</td>\n",
       "    </tr>\n",
       "    <tr>\n",
       "      <th>4</th>\n",
       "      <td>🇪🇸ESPAÑ🅰️ — EL DEB🅰️TE‼️🇪🇸\\n¿QUÉ ⭕️PINAS DE LA DECLARACIÓN DE INDEPENDENCIA EN C🅰️TALUÑ🅰️❓\\n—Yo,… https://t.co/e595vYeYCx</td>\n",
       "      <td>0</td>\n",
       "      <td>NaN</td>\n",
       "      <td>917895608362442752</td>\n",
       "    </tr>\n",
       "    <tr>\n",
       "      <th>5</th>\n",
       "      <td>🇪🇸ESPAÑ🅰️ — EL DEB🅰️TE‼️🇪🇸\\n¿QUÉ ⭕️PINAS DE LA DECLARACIÓN DE INDEPENDENCIA EN C🅰️TALUÑ🅰️❓\\n—Yo,… https://t.co/lfz9XoQ4lb</td>\n",
       "      <td>0</td>\n",
       "      <td>NaN</td>\n",
       "      <td>917895422470967296</td>\n",
       "    </tr>\n",
       "    <tr>\n",
       "      <th>6</th>\n",
       "      <td>Lo siento , pero me lo pusieron a huevo :) #memes #humor #comedia #comedy #catalonia #catalunya… https://t.co/qOtJQ3uoD0</td>\n",
       "      <td>0</td>\n",
       "      <td>NaN</td>\n",
       "      <td>917895099752869888</td>\n",
       "    </tr>\n",
       "    <tr>\n",
       "      <th>7</th>\n",
       "      <td>🇪🇸ESPAÑ🅰️ — EL DEB🅰️TE‼️🇪🇸\\n¿QUÉ ⭕️PINAS DE LA DECLARACIÓN DE INDEPENDENCIA EN C🅰️TALUÑ🅰️❓\\n—Yo,… https://t.co/g2sdIJiRcc</td>\n",
       "      <td>0</td>\n",
       "      <td>NaN</td>\n",
       "      <td>917895088176488448</td>\n",
       "    </tr>\n",
       "    <tr>\n",
       "      <th>8</th>\n",
       "      <td>FANS DEL JJ! 🙌🙌 en Santa María De Palautordera, Cataluna, Spain https://t.co/kuOTVpNG20</td>\n",
       "      <td>0</td>\n",
       "      <td>NaN</td>\n",
       "      <td>917869495695192065</td>\n",
       "    </tr>\n",
       "    <tr>\n",
       "      <th>9</th>\n",
       "      <td>@Santi_ABASCAL cuando nos convoca una manifestación contra el aliado de los golpistas ;RAJOY.</td>\n",
       "      <td>0</td>\n",
       "      <td>NaN</td>\n",
       "      <td>917868862175096837</td>\n",
       "    </tr>\n",
       "    <tr>\n",
       "      <th>10</th>\n",
       "      <td>La independencia es muy independiente y mucho independiente</td>\n",
       "      <td>1</td>\n",
       "      <td>NaN</td>\n",
       "      <td>917867505523281921</td>\n",
       "    </tr>\n",
       "    <tr>\n",
       "      <th>11</th>\n",
       "      <td>Espero que no sea cierto.\\nhttps://t.co/hXslLoVIAB</td>\n",
       "      <td>0</td>\n",
       "      <td>NaN</td>\n",
       "      <td>917865183711723520</td>\n",
       "    </tr>\n",
       "    <tr>\n",
       "      <th>12</th>\n",
       "      <td>'independencia','aplauso','blake' y 'bolt' es ahora una tendencia en #Seville\\n\\nhttps://t.co/Nq0Nu5Fpki https://t.co/mj2oD8670x</td>\n",
       "      <td>1</td>\n",
       "      <td>NaN</td>\n",
       "      <td>917864622417432577</td>\n",
       "    </tr>\n",
       "    <tr>\n",
       "      <th>13</th>\n",
       "      <td>📈 Con al menos 200000 búsquedas \"Cataluña\" es tendencia en Google España https://t.co/ASI9i8qUdk</td>\n",
       "      <td>0</td>\n",
       "      <td>NaN</td>\n",
       "      <td>917861600052133888</td>\n",
       "    </tr>\n",
       "    <tr>\n",
       "      <th>14</th>\n",
       "      <td>'independencia', 'aplauso' y 'declaració' es ahora una tendencia en #Valencia\\n\\nhttps://t.co/GprxBJYCWn https://t.co/8lOGGhYPOR</td>\n",
       "      <td>0</td>\n",
       "      <td>NaN</td>\n",
       "      <td>917861177555906561</td>\n",
       "    </tr>\n",
       "    <tr>\n",
       "      <th>15</th>\n",
       "      <td>⒈ #MCCelebrity\\n⒉ #LaLíneaRojaHomofobia\\n⒊ #Puigdemont\\n⒋ Consejo de Ministros\\n⒌ #RevillaEH\\n\\n2017/10/11 01:12 CEST https://t.co/K5DFqqcseW</td>\n",
       "      <td>1</td>\n",
       "      <td>NaN</td>\n",
       "      <td>917892380308652032</td>\n",
       "    </tr>\n",
       "    <tr>\n",
       "      <th>16</th>\n",
       "      <td>#Puigdemont acaba de convertirse en TT ocupando la 3ª posición en España. Más en https://t.co/K5DFqqcseW #trndnl https://t.co/WMLgJOaHfi</td>\n",
       "      <td>0</td>\n",
       "      <td>NaN</td>\n",
       "      <td>917891646544420864</td>\n",
       "    </tr>\n",
       "    <tr>\n",
       "      <th>17</th>\n",
       "      <td>Muy inporta te no nos dejemos engañar  con la declaración y suspensión y declaracio d independencia es una farsa https://t.co/UgdMNXEkcU</td>\n",
       "      <td>0</td>\n",
       "      <td>NaN</td>\n",
       "      <td>917856714560557056</td>\n",
       "    </tr>\n",
       "    <tr>\n",
       "      <th>18</th>\n",
       "      <td>\"@elmundoes: El Gobierno estudiará mañana la respuesta a Puigdemont https://t.co/lg3x3vthVM #10Oct\" Q no parezca q no hacemos nada... Joer</td>\n",
       "      <td>0</td>\n",
       "      <td>NaN</td>\n",
       "      <td>917852256665526272</td>\n",
       "    </tr>\n",
       "    <tr>\n",
       "      <th>19</th>\n",
       "      <td>Están siendo más serios y honestos los de la CUP dando explicaciones ahora que Puigdemont en el Parlament</td>\n",
       "      <td>0</td>\n",
       "      <td>NaN</td>\n",
       "      <td>917851642111971329</td>\n",
       "    </tr>\n",
       "    <tr>\n",
       "      <th>20</th>\n",
       "      <td>Dándolo todo. en Bellver, Cataluna, Spain https://t.co/UWy3bgerem</td>\n",
       "      <td>1</td>\n",
       "      <td>NaN</td>\n",
       "      <td>917849772983246849</td>\n",
       "    </tr>\n",
       "    <tr>\n",
       "      <th>21</th>\n",
       "      <td>Los 72 diputados independentistas han firmado la declaración de independencia  https://t.co/uKyjUXfi2X https://t.co/KmcZbRBb6B</td>\n",
       "      <td>1</td>\n",
       "      <td>NaN</td>\n",
       "      <td>917848727053881344</td>\n",
       "    </tr>\n",
       "    <tr>\n",
       "      <th>22</th>\n",
       "      <td>Second home 🌅 en Santa Susana, Cataluna, Spain https://t.co/ew8L1D0czS</td>\n",
       "      <td>1</td>\n",
       "      <td>NaN</td>\n",
       "      <td>917848030044450817</td>\n",
       "    </tr>\n",
       "    <tr>\n",
       "      <th>23</th>\n",
       "      <td>Según acaba de publicar la Generalitat, \"El presidente firma la declaración de independencia\"https://t.co/tILcb6fANd https://t.co/WP57pz8ZFT</td>\n",
       "      <td>0</td>\n",
       "      <td>NaN</td>\n",
       "      <td>917847068496072704</td>\n",
       "    </tr>\n",
       "    <tr>\n",
       "      <th>24</th>\n",
       "      <td>Que si firma la independencia pero la suspende jajajjaj que show es esto caray . Visca Catalunya , Viva España</td>\n",
       "      <td>1</td>\n",
       "      <td>NaN</td>\n",
       "      <td>917846040543449089</td>\n",
       "    </tr>\n",
       "    <tr>\n",
       "      <th>25</th>\n",
       "      <td>El lehendakari dice que Puigdemont abre \"un tiempo para dar la oportunidad al diálogo\": Urkullu desea que \"esa…… https://t.co/0AXiiZgGA4</td>\n",
       "      <td>1</td>\n",
       "      <td>NaN</td>\n",
       "      <td>917844010194034688</td>\n",
       "    </tr>\n",
       "    <tr>\n",
       "      <th>26</th>\n",
       "      <td>@20m Pero nadie, ni Juez ni fiscalía investiga a los salvajes que agredieron a abuelas en el Referéndum, no creo en la Justicia española</td>\n",
       "      <td>0</td>\n",
       "      <td>NaN</td>\n",
       "      <td>917843886617321473</td>\n",
       "    </tr>\n",
       "    <tr>\n",
       "      <th>27</th>\n",
       "      <td>Pero buenoooo esto que es? , en Cataluña somos República en suspensión o somos República o somos Comunidad Autónoma ? Esto es un caos xd</td>\n",
       "      <td>0</td>\n",
       "      <td>NaN</td>\n",
       "      <td>917843654785552384</td>\n",
       "    </tr>\n",
       "    <tr>\n",
       "      <th>28</th>\n",
       "      <td>Rajoy y el resto del mundo intentando saber que está haciendo el… https://t.co/slCRsyH4lL</td>\n",
       "      <td>0</td>\n",
       "      <td>NaN</td>\n",
       "      <td>917842854977982464</td>\n",
       "    </tr>\n",
       "    <tr>\n",
       "      <th>29</th>\n",
       "      <td>Que me aclare: La independencia esta en la prórroga, en los penaltis o en el gol de oro?</td>\n",
       "      <td>1</td>\n",
       "      <td>NaN</td>\n",
       "      <td>917842830919335936</td>\n",
       "    </tr>\n",
       "    <tr>\n",
       "      <th>30</th>\n",
       "      <td>Cuando proclamas la independencia de tu pueblo... Pero NO en… https://t.co/PqVVc0c4d5</td>\n",
       "      <td>0</td>\n",
       "      <td>NaN</td>\n",
       "      <td>917842421882478592</td>\n",
       "    </tr>\n",
       "    <tr>\n",
       "      <th>31</th>\n",
       "      <td>📈 Con al menos 10000 búsquedas \"Parlamento de Cataluña\" es tendencia en Google España https://t.co/frbTQM9m8i</td>\n",
       "      <td>0</td>\n",
       "      <td>NaN</td>\n",
       "      <td>917884242125766656</td>\n",
       "    </tr>\n",
       "    <tr>\n",
       "      <th>32</th>\n",
       "      <td>⒈ #MCCelebrity\\n⒉ #LaLíneaRojaHomofobia\\n⒊ #Puigdemont\\n⒋ Consejo de Ministros\\n⒌ #RevillaEH\\n\\n2017/10/11 01:28 CEST https://t.co/K5DFqqcseW</td>\n",
       "      <td>1</td>\n",
       "      <td>NaN</td>\n",
       "      <td>917897409702674432</td>\n",
       "    </tr>\n",
       "    <tr>\n",
       "      <th>33</th>\n",
       "      <td>#ARVcatLaDecision @KRLS no nos engañen con falsa intensión de dialogo y firmando manifiestos de independencia para ganar tiempo. Elecciones</td>\n",
       "      <td>0</td>\n",
       "      <td>NaN</td>\n",
       "      <td>917876457539387392</td>\n",
       "    </tr>\n",
       "    <tr>\n",
       "      <th>34</th>\n",
       "      <td>#10Oct una tomadura de pelo, la declaró pero la suspendo. Cataluña es República o no ??? Jolín que lio</td>\n",
       "      <td>0</td>\n",
       "      <td>NaN</td>\n",
       "      <td>917830501750202378</td>\n",
       "    </tr>\n",
       "    <tr>\n",
       "      <th>35</th>\n",
       "      <td>SE DECLARA LA INDEPENDENCIA PERO SE SUPENDE PARA NEGOCIAR. UNA REPUBLICA CATALAN Y BUSCAR APOYOS.CREO https://t.co/KK6PvkcbEc</td>\n",
       "      <td>0</td>\n",
       "      <td>NaN</td>\n",
       "      <td>917830495005749248</td>\n",
       "    </tr>\n",
       "    <tr>\n",
       "      <th>36</th>\n",
       "      <td>Asi a sido el resultado de la declaracion de Independencia #10Oct #10octTV3 #10octCatARV #10octCat  https://t.co/yIyJxkiGmm</td>\n",
       "      <td>0</td>\n",
       "      <td>NaN</td>\n",
       "      <td>917830450231545856</td>\n",
       "    </tr>\n",
       "    <tr>\n",
       "      <th>37</th>\n",
       "      <td>Mientras Cataluña sigue sumergida (ahogada) en un mar de dudas por los gobernantes, yo proclamo… https://t.co/I7FrDepsrp</td>\n",
       "      <td>0</td>\n",
       "      <td>NaN</td>\n",
       "      <td>917829426129391618</td>\n",
       "    </tr>\n",
       "    <tr>\n",
       "      <th>38</th>\n",
       "      <td>Lo mismo lo único que buscaba Puigdemont eran 5m de gloria en las teles de todo el mundo</td>\n",
       "      <td>1</td>\n",
       "      <td>NaN</td>\n",
       "      <td>917829133929013250</td>\n",
       "    </tr>\n",
       "    <tr>\n",
       "      <th>39</th>\n",
       "      <td>📈 Top 10 de búsquedas en ⒼⓄⓄⒼⓁⒺ durante las últimas 24 horas:\\n\\n➊ Puigdemont En Directo\\n\\n2017/10/10 21:04 CEST</td>\n",
       "      <td>0</td>\n",
       "      <td>NaN</td>\n",
       "      <td>917828282539581440</td>\n",
       "    </tr>\n",
       "    <tr>\n",
       "      <th>40</th>\n",
       "      <td>BEYO y GABOO, 2017. De la serie Mutantes de Gabriela Trejo en Catalonia, Spain https://t.co/UgbtWo7Npq</td>\n",
       "      <td>1</td>\n",
       "      <td>NaN</td>\n",
       "      <td>917828207902150656</td>\n",
       "    </tr>\n",
       "    <tr>\n",
       "      <th>41</th>\n",
       "      <td>📈 Más de 10000 búsquedas en Google España, han convertido a \"Puigdemont En Directo\" en tendencia https://t.co/Sov85f23M1</td>\n",
       "      <td>1</td>\n",
       "      <td>NaN</td>\n",
       "      <td>917827718040887296</td>\n",
       "    </tr>\n",
       "    <tr>\n",
       "      <th>42</th>\n",
       "      <td>@el_pais pues será otra oportunitad perdida.Creo que Puigdemont ha abierto una oportunidad para alejar el conflicto No se puede humillar</td>\n",
       "      <td>1</td>\n",
       "      <td>NaN</td>\n",
       "      <td>917825011016257536</td>\n",
       "    </tr>\n",
       "    <tr>\n",
       "      <th>43</th>\n",
       "      <td>La justicia es una zorra con los ojos vendados 🖤 en Aragon, Spain https://t.co/Pql8dOhV0v</td>\n",
       "      <td>0</td>\n",
       "      <td>NaN</td>\n",
       "      <td>917824983992115200</td>\n",
       "    </tr>\n",
       "    <tr>\n",
       "      <th>44</th>\n",
       "      <td>Pues se ha quedado un día bonito en La Plaza Cataluña.</td>\n",
       "      <td>0</td>\n",
       "      <td>NaN</td>\n",
       "      <td>917838552741933056</td>\n",
       "    </tr>\n",
       "    <tr>\n",
       "      <th>45</th>\n",
       "      <td>La misma CUP dispuesta a entregar a Puigdemont y secuaces a las fuerzas y cuerpos de seguridad del Estado español.</td>\n",
       "      <td>1</td>\n",
       "      <td>NaN</td>\n",
       "      <td>917824510539321346</td>\n",
       "    </tr>\n",
       "    <tr>\n",
       "      <th>46</th>\n",
       "      <td>Que la Virgen del Pilar guarde a España. #cataluña #virgendelpilar @guardiacivil @lebronjames en… https://t.co/C82Isnr0uH</td>\n",
       "      <td>0</td>\n",
       "      <td>NaN</td>\n",
       "      <td>917824144128958464</td>\n",
       "    </tr>\n",
       "    <tr>\n",
       "      <th>47</th>\n",
       "      <td>Los tractores se retiran....Mission completed? Caras largas.\\nPuigdemont declara la independencia… https://t.co/EFI4l9FENf</td>\n",
       "      <td>0</td>\n",
       "      <td>NaN</td>\n",
       "      <td>917823616355655680</td>\n",
       "    </tr>\n",
       "    <tr>\n",
       "      <th>48</th>\n",
       "      <td>#QueremosDiálogo  Ahora ????  No señor Puigdemont ! NOOO</td>\n",
       "      <td>0</td>\n",
       "      <td>NaN</td>\n",
       "      <td>917821590490017793</td>\n",
       "    </tr>\n",
       "    <tr>\n",
       "      <th>49</th>\n",
       "      <td>México 🇲🇽 no reconocerá independencia de #Cataluña \\n👏🏻👏🏻👏🏻👏🏻👏🏻\\nhttps://t.co/IrmOPkBzpK https://t.co/A5ymDw6M2w</td>\n",
       "      <td>1</td>\n",
       "      <td>NaN</td>\n",
       "      <td>917838147869970433</td>\n",
       "    </tr>\n",
       "  </tbody>\n",
       "</table>\n",
       "</div>"
      ],
      "text/plain": [
       "                                                                                                                                          content  \\\n",
       "1                        📈 Top 10 de búsquedas en ⒼⓄⓄⒼⓁⒺ durante las últimas 24 horas:\\n\\n➊ Memes Puigdemont\\n➋ Portugal\\n\\n2017/10/11 00:04 CEST   \n",
       "2                                         📈 Con al menos 10000 búsquedas \"Memes Puigdemont\" es tendencia en Google España https://t.co/lwH0BP7JlW   \n",
       "3                          🇪🇸CATALUÑ🅰️ Y LA ÚLTIMA H⭕️RA ESPAÑOL🅰️\\n▪️Mariano Rajoy y Pedro Sánchez se reúnen en Moncloa… https://t.co/wEvH7IicP9   \n",
       "4                       🇪🇸ESPAÑ🅰️ — EL DEB🅰️TE‼️🇪🇸\\n¿QUÉ ⭕️PINAS DE LA DECLARACIÓN DE INDEPENDENCIA EN C🅰️TALUÑ🅰️❓\\n—Yo,… https://t.co/e595vYeYCx   \n",
       "5                       🇪🇸ESPAÑ🅰️ — EL DEB🅰️TE‼️🇪🇸\\n¿QUÉ ⭕️PINAS DE LA DECLARACIÓN DE INDEPENDENCIA EN C🅰️TALUÑ🅰️❓\\n—Yo,… https://t.co/lfz9XoQ4lb   \n",
       "6                        Lo siento , pero me lo pusieron a huevo :) #memes #humor #comedia #comedy #catalonia #catalunya… https://t.co/qOtJQ3uoD0   \n",
       "7                       🇪🇸ESPAÑ🅰️ — EL DEB🅰️TE‼️🇪🇸\\n¿QUÉ ⭕️PINAS DE LA DECLARACIÓN DE INDEPENDENCIA EN C🅰️TALUÑ🅰️❓\\n—Yo,… https://t.co/g2sdIJiRcc   \n",
       "8                                                         FANS DEL JJ! 🙌🙌 en Santa María De Palautordera, Cataluna, Spain https://t.co/kuOTVpNG20   \n",
       "9                                                   @Santi_ABASCAL cuando nos convoca una manifestación contra el aliado de los golpistas ;RAJOY.   \n",
       "10                                                                                    La independencia es muy independiente y mucho independiente   \n",
       "11                                                                                             Espero que no sea cierto.\\nhttps://t.co/hXslLoVIAB   \n",
       "12               'independencia','aplauso','blake' y 'bolt' es ahora una tendencia en #Seville\\n\\nhttps://t.co/Nq0Nu5Fpki https://t.co/mj2oD8670x   \n",
       "13                                               📈 Con al menos 200000 búsquedas \"Cataluña\" es tendencia en Google España https://t.co/ASI9i8qUdk   \n",
       "14               'independencia', 'aplauso' y 'declaració' es ahora una tendencia en #Valencia\\n\\nhttps://t.co/GprxBJYCWn https://t.co/8lOGGhYPOR   \n",
       "15  ⒈ #MCCelebrity\\n⒉ #LaLíneaRojaHomofobia\\n⒊ #Puigdemont\\n⒋ Consejo de Ministros\\n⒌ #RevillaEH\\n\\n2017/10/11 01:12 CEST https://t.co/K5DFqqcseW   \n",
       "16       #Puigdemont acaba de convertirse en TT ocupando la 3ª posición en España. Más en https://t.co/K5DFqqcseW #trndnl https://t.co/WMLgJOaHfi   \n",
       "17       Muy inporta te no nos dejemos engañar  con la declaración y suspensión y declaracio d independencia es una farsa https://t.co/UgdMNXEkcU   \n",
       "18     \"@elmundoes: El Gobierno estudiará mañana la respuesta a Puigdemont https://t.co/lg3x3vthVM #10Oct\" Q no parezca q no hacemos nada... Joer   \n",
       "19                                      Están siendo más serios y honestos los de la CUP dando explicaciones ahora que Puigdemont en el Parlament   \n",
       "20                                                                              Dándolo todo. en Bellver, Cataluna, Spain https://t.co/UWy3bgerem   \n",
       "21                 Los 72 diputados independentistas han firmado la declaración de independencia  https://t.co/uKyjUXfi2X https://t.co/KmcZbRBb6B   \n",
       "22                                                                         Second home 🌅 en Santa Susana, Cataluna, Spain https://t.co/ew8L1D0czS   \n",
       "23   Según acaba de publicar la Generalitat, \"El presidente firma la declaración de independencia\"https://t.co/tILcb6fANd https://t.co/WP57pz8ZFT   \n",
       "24                                 Que si firma la independencia pero la suspende jajajjaj que show es esto caray . Visca Catalunya , Viva España   \n",
       "25       El lehendakari dice que Puigdemont abre \"un tiempo para dar la oportunidad al diálogo\": Urkullu desea que \"esa…… https://t.co/0AXiiZgGA4   \n",
       "26       @20m Pero nadie, ni Juez ni fiscalía investiga a los salvajes que agredieron a abuelas en el Referéndum, no creo en la Justicia española   \n",
       "27       Pero buenoooo esto que es? , en Cataluña somos República en suspensión o somos República o somos Comunidad Autónoma ? Esto es un caos xd   \n",
       "28                                                      Rajoy y el resto del mundo intentando saber que está haciendo el… https://t.co/slCRsyH4lL   \n",
       "29                                                       Que me aclare: La independencia esta en la prórroga, en los penaltis o en el gol de oro?   \n",
       "30                                                          Cuando proclamas la independencia de tu pueblo... Pero NO en… https://t.co/PqVVc0c4d5   \n",
       "31                                  📈 Con al menos 10000 búsquedas \"Parlamento de Cataluña\" es tendencia en Google España https://t.co/frbTQM9m8i   \n",
       "32  ⒈ #MCCelebrity\\n⒉ #LaLíneaRojaHomofobia\\n⒊ #Puigdemont\\n⒋ Consejo de Ministros\\n⒌ #RevillaEH\\n\\n2017/10/11 01:28 CEST https://t.co/K5DFqqcseW   \n",
       "33    #ARVcatLaDecision @KRLS no nos engañen con falsa intensión de dialogo y firmando manifiestos de independencia para ganar tiempo. Elecciones   \n",
       "34                                         #10Oct una tomadura de pelo, la declaró pero la suspendo. Cataluña es República o no ??? Jolín que lio   \n",
       "35                  SE DECLARA LA INDEPENDENCIA PERO SE SUPENDE PARA NEGOCIAR. UNA REPUBLICA CATALAN Y BUSCAR APOYOS.CREO https://t.co/KK6PvkcbEc   \n",
       "36                    Asi a sido el resultado de la declaracion de Independencia #10Oct #10octTV3 #10octCatARV #10octCat  https://t.co/yIyJxkiGmm   \n",
       "37                       Mientras Cataluña sigue sumergida (ahogada) en un mar de dudas por los gobernantes, yo proclamo… https://t.co/I7FrDepsrp   \n",
       "38                                                       Lo mismo lo único que buscaba Puigdemont eran 5m de gloria en las teles de todo el mundo   \n",
       "39                              📈 Top 10 de búsquedas en ⒼⓄⓄⒼⓁⒺ durante las últimas 24 horas:\\n\\n➊ Puigdemont En Directo\\n\\n2017/10/10 21:04 CEST   \n",
       "40                                         BEYO y GABOO, 2017. De la serie Mutantes de Gabriela Trejo en Catalonia, Spain https://t.co/UgbtWo7Npq   \n",
       "41                       📈 Más de 10000 búsquedas en Google España, han convertido a \"Puigdemont En Directo\" en tendencia https://t.co/Sov85f23M1   \n",
       "42       @el_pais pues será otra oportunitad perdida.Creo que Puigdemont ha abierto una oportunidad para alejar el conflicto No se puede humillar   \n",
       "43                                                      La justicia es una zorra con los ojos vendados 🖤 en Aragon, Spain https://t.co/Pql8dOhV0v   \n",
       "44                                                                                         Pues se ha quedado un día bonito en La Plaza Cataluña.   \n",
       "45                             La misma CUP dispuesta a entregar a Puigdemont y secuaces a las fuerzas y cuerpos de seguridad del Estado español.   \n",
       "46                      Que la Virgen del Pilar guarde a España. #cataluña #virgendelpilar @guardiacivil @lebronjames en… https://t.co/C82Isnr0uH   \n",
       "47                     Los tractores se retiran....Mission completed? Caras largas.\\nPuigdemont declara la independencia… https://t.co/EFI4l9FENf   \n",
       "48                                                                                       #QueremosDiálogo  Ahora ????  No señor Puigdemont ! NOOO   \n",
       "49                               México 🇲🇽 no reconocerá independencia de #Cataluña \\n👏🏻👏🏻👏🏻👏🏻👏🏻\\nhttps://t.co/IrmOPkBzpK https://t.co/A5ymDw6M2w   \n",
       "\n",
       "    polarity coordinates            tweet_id  \n",
       "1          0         NaN  917873384762908672  \n",
       "2          1         NaN  917872894452965376  \n",
       "3          0         NaN  917871440610938881  \n",
       "4          0         NaN  917895608362442752  \n",
       "5          0         NaN  917895422470967296  \n",
       "6          0         NaN  917895099752869888  \n",
       "7          0         NaN  917895088176488448  \n",
       "8          0         NaN  917869495695192065  \n",
       "9          0         NaN  917868862175096837  \n",
       "10         1         NaN  917867505523281921  \n",
       "11         0         NaN  917865183711723520  \n",
       "12         1         NaN  917864622417432577  \n",
       "13         0         NaN  917861600052133888  \n",
       "14         0         NaN  917861177555906561  \n",
       "15         1         NaN  917892380308652032  \n",
       "16         0         NaN  917891646544420864  \n",
       "17         0         NaN  917856714560557056  \n",
       "18         0         NaN  917852256665526272  \n",
       "19         0         NaN  917851642111971329  \n",
       "20         1         NaN  917849772983246849  \n",
       "21         1         NaN  917848727053881344  \n",
       "22         1         NaN  917848030044450817  \n",
       "23         0         NaN  917847068496072704  \n",
       "24         1         NaN  917846040543449089  \n",
       "25         1         NaN  917844010194034688  \n",
       "26         0         NaN  917843886617321473  \n",
       "27         0         NaN  917843654785552384  \n",
       "28         0         NaN  917842854977982464  \n",
       "29         1         NaN  917842830919335936  \n",
       "30         0         NaN  917842421882478592  \n",
       "31         0         NaN  917884242125766656  \n",
       "32         1         NaN  917897409702674432  \n",
       "33         0         NaN  917876457539387392  \n",
       "34         0         NaN  917830501750202378  \n",
       "35         0         NaN  917830495005749248  \n",
       "36         0         NaN  917830450231545856  \n",
       "37         0         NaN  917829426129391618  \n",
       "38         1         NaN  917829133929013250  \n",
       "39         0         NaN  917828282539581440  \n",
       "40         1         NaN  917828207902150656  \n",
       "41         1         NaN  917827718040887296  \n",
       "42         1         NaN  917825011016257536  \n",
       "43         0         NaN  917824983992115200  \n",
       "44         0         NaN  917838552741933056  \n",
       "45         1         NaN  917824510539321346  \n",
       "46         0         NaN  917824144128958464  \n",
       "47         0         NaN  917823616355655680  \n",
       "48         0         NaN  917821590490017793  \n",
       "49         1         NaN  917838147869970433  "
      ]
     },
     "execution_count": 114,
     "metadata": {},
     "output_type": "execute_result"
    }
   ],
   "source": [
    "test_data2[1:50]"
   ]
  },
  {
   "cell_type": "code",
   "execution_count": 74,
   "metadata": {},
   "outputs": [
    {
     "data": {
      "text/plain": [
       "37"
      ]
     },
     "execution_count": 74,
     "metadata": {},
     "output_type": "execute_result"
    }
   ],
   "source": [
    "test_data2['polarity'].sum()"
   ]
  },
  {
   "cell_type": "code",
   "execution_count": 75,
   "metadata": {},
   "outputs": [
    {
     "data": {
      "text/plain": [
       "0.3274336283185841"
      ]
     },
     "execution_count": 75,
     "metadata": {},
     "output_type": "execute_result"
    }
   ],
   "source": [
    "len(test_data2[test_data2['polarity'] == 1]) / test_data2.shape[0]"
   ]
  },
  {
   "cell_type": "code",
   "execution_count": 76,
   "metadata": {},
   "outputs": [
    {
     "data": {
      "text/plain": [
       "0.672566371681416"
      ]
     },
     "execution_count": 76,
     "metadata": {},
     "output_type": "execute_result"
    }
   ],
   "source": [
    "len(test_data2[test_data2['polarity'] == 0]) / test_data2.shape[0]"
   ]
  },
  {
   "cell_type": "markdown",
   "metadata": {},
   "source": [
    "The initial patch seems to work.\n",
    "## Classification of all data"
   ]
  },
  {
   "cell_type": "code",
   "execution_count": 37,
   "metadata": {},
   "outputs": [
    {
     "name": "stderr",
     "output_type": "stream",
     "text": [
      "/home/saaville/anaconda3/envs/deepenv1/lib/python3.6/site-packages/ipykernel/__main__.py:21: SettingWithCopyWarning: \n",
      "A value is trying to be set on a copy of a slice from a DataFrame.\n",
      "Try using .loc[row_indexer,col_indexer] = value instead\n",
      "\n",
      "See the caveats in the documentation: http://pandas.pydata.org/pandas-docs/stable/indexing.html#indexing-view-versus-copy\n"
     ]
    }
   ],
   "source": [
    "pipeline = Pipeline([\n",
    "    ('vect', CountVectorizer(\n",
    "            analyzer = 'word',\n",
    "            tokenizer = tokenize,\n",
    "            lowercase = True,\n",
    "            stop_words = spanish_stopwords,\n",
    "            min_df = 10,\n",
    "            max_df = 0.6,\n",
    "            ngram_range=(1, 1),\n",
    "            max_features=1000\n",
    "            )),\n",
    "    ('cls', LinearSVC(C=.2, loss='squared_hinge',max_iter=1000,multi_class='ovr',\n",
    "             random_state=None,\n",
    "             penalty='l2',\n",
    "             tol=0.0001\n",
    "             )),\n",
    "])\n",
    "\n",
    "pipeline.fit(train_data.content, train_data.pol_polarity)\n",
    "\n",
    "data_es['polarity'] = pipeline.predict(data_es.text)"
   ]
  },
  {
   "cell_type": "code",
   "execution_count": 38,
   "metadata": {},
   "outputs": [
    {
     "data": {
      "text/plain": [
       "179318"
      ]
     },
     "execution_count": 38,
     "metadata": {},
     "output_type": "execute_result"
    }
   ],
   "source": [
    "data_es[data_es['polarity'] == 1]['polarity'].sum()"
   ]
  },
  {
   "cell_type": "code",
   "execution_count": 39,
   "metadata": {
    "collapsed": true
   },
   "outputs": [],
   "source": [
    "data_es.to_json('8oct_es_sentiment.json', orient='records', lines=True)"
   ]
  }
 ],
 "metadata": {
  "kernelspec": {
   "display_name": "Python 3",
   "language": "python",
   "name": "python3"
  },
  "language_info": {
   "codemirror_mode": {
    "name": "ipython",
    "version": 3
   },
   "file_extension": ".py",
   "mimetype": "text/x-python",
   "name": "python",
   "nbconvert_exporter": "python",
   "pygments_lexer": "ipython3",
   "version": "3.6.2"
  }
 },
 "nbformat": 4,
 "nbformat_minor": 2
}
