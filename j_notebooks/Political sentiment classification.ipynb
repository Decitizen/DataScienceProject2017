{
 "cells": [
  {
   "cell_type": "code",
   "execution_count": 1,
   "metadata": {
    "collapsed": true
   },
   "outputs": [],
   "source": [
    "import os\n",
    "import numpy as np\n",
    "import pandas as pd"
   ]
  },
  {
   "cell_type": "code",
   "execution_count": 2,
   "metadata": {
    "collapsed": true
   },
   "outputs": [],
   "source": [
    "# Read the data\n",
    "data = pd.read_json('8oct_pre_processed.json')"
   ]
  },
  {
   "cell_type": "code",
   "execution_count": 19,
   "metadata": {
    "collapsed": true
   },
   "outputs": [],
   "source": [
    "'''This is the script, parameters taken: \n",
    "   original_dataframe: original pandas-dataframe (no filterings), \n",
    "   hashtag: the hashtag you want to select (as a string)\n",
    "   lang: for example 'en' or 'es'\n",
    "'''\n",
    "\n",
    "def classify_political_sentiment(original_dataframe, hashtag, lang, word_limit):\n",
    "    if 'pol_sentiment' not in original_dataframe.columns:\n",
    "        original_dataframe['pol_sentiment'] = [None for i in range(original_dataframe.shape[0])]\n",
    "    \n",
    "    stop_flag = False\n",
    "\n",
    "    for index, row in original_dataframe.iterrows():\n",
    "        hashtags = row['hashtags']\n",
    "        \n",
    "        if (row['is_retweet'] == 0) & (hashtag in hashtags) & (row['lang'] == lang) & (row['pol_sentiment'] == None) & (len(row['text'].split()) >= word_limit) & ('http' not in row['text']): \n",
    "            print(\"------------------------------------------------------------------------\\nTweet: \")\n",
    "            print(str(row['text'] + \"\\n\\n\"))\n",
    "            \n",
    "            print(\"------------------------------------------------------------------------\")\n",
    "            while True:\n",
    "                n = int(input(\"Input a political sentiment score on a scale (againts indep) -5 to 5 (for indep), 0 for neutral. Input 10 for undetermined, 99 to exit: \"))\n",
    "                if n == 99:\n",
    "                    stop_flag = True\n",
    "                    print(\"Exiting.\\n\")\n",
    "                    break  # stops the loop\n",
    "                    \n",
    "                elif n == 10:\n",
    "                    print(\"Leave undetermined.\")\n",
    "                    break\n",
    "                \n",
    "                elif n >= -5 & n <= 5:\n",
    "                    print(\"Rated:\", n, \"\\n\")\n",
    "                    original_dataframe.loc[index, 'pol_sentiment'] = n\n",
    "                    break\n",
    "                    \n",
    "                else:\n",
    "                    print('Not a proper input, try again.')\n",
    "                    \n",
    "        if stop_flag:\n",
    "            break\n"
   ]
  },
  {
   "cell_type": "code",
   "execution_count": 20,
   "metadata": {},
   "outputs": [
    {
     "name": "stdout",
     "output_type": "stream",
     "text": [
      "------------------------------------------------------------------------\n",
      "Tweet: \n",
      "#RecuperemElSeny\n",
      "Catalans neglected by Cat Gov have spoken. No more ethnic nationalism. 62%  Catalans demand to be considered @BBCnews\n",
      "\n",
      "\n",
      "------------------------------------------------------------------------\n",
      "Input a political sentiment score on a scale (againts indep) -5 to 5 (for indep), 0 for neutral. Input 10 for undetermined, 99 to exit: 3\n",
      "Rated: 3 \n",
      "\n",
      "------------------------------------------------------------------------\n",
      "Tweet: \n",
      "#RecuperemElSeny #peru #VargasLlosa \n",
      "Mario. Today Atahualpa turned in his grave upon hearing his \"compatriot's\" speech\n",
      "\n",
      "\n",
      "------------------------------------------------------------------------\n",
      "Input a political sentiment score on a scale (againts indep) -5 to 5 (for indep), 0 for neutral. Input 10 for undetermined, 99 to exit: 4\n",
      "Rated: 4 \n",
      "\n",
      "------------------------------------------------------------------------\n",
      "Tweet: \n",
      "Thread on #RecuperemElSeny: today I haven’t attended the march. Vargas Llosa, Albiol and Rivera do not represent me.\n",
      "\n",
      "\n",
      "------------------------------------------------------------------------\n",
      "Input a political sentiment score on a scale (againts indep) -5 to 5 (for indep), 0 for neutral. Input 10 for undetermined, 99 to exit: 2\n",
      "Rated: 2 \n",
      "\n",
      "------------------------------------------------------------------------\n",
      "Tweet: \n",
      "#RecuperemElSeny\n",
      "We are not a minority. Proud to see people on the streets protesting against self-elected leaders. Catalonia IS Spain 🇪🇸\n",
      "\n",
      "\n",
      "------------------------------------------------------------------------\n",
      "Input a political sentiment score on a scale (againts indep) -5 to 5 (for indep), 0 for neutral. Input 10 for undetermined, 99 to exit: 10\n",
      "Leave undetermined.\n",
      "------------------------------------------------------------------------\n",
      "Tweet: \n",
      "@TheEconomist @TheEconomist were you short of journalists today and you missed the rally in #Barcelona #RecuperemElSeny?\n",
      "\n",
      "\n",
      "------------------------------------------------------------------------\n",
      "Input a political sentiment score on a scale (againts indep) -5 to 5 (for indep), 0 for neutral. Input 10 for undetermined, 99 to exit: 99\n",
      "Exiting.\n",
      "\n"
     ]
    }
   ],
   "source": [
    "# Run the script with chosen parameters,\n",
    "# follow the instructions on the terminal window,\n",
    "# input 99 to exit.\n",
    "classify_political_sentiment(data, 'recuperemelseny', 'en', 15)"
   ]
  },
  {
   "cell_type": "code",
   "execution_count": 7,
   "metadata": {},
   "outputs": [
    {
     "data": {
      "text/plain": [
       "101550    3\n",
       "103051    0\n",
       "106841    3\n",
       "108821    3\n",
       "130567    0\n",
       "130628    0\n",
       "Name: pol_sentiment, dtype: object"
      ]
     },
     "execution_count": 7,
     "metadata": {},
     "output_type": "execute_result"
    }
   ],
   "source": [
    "# Check your reviews\n",
    "data['pol_sentiment'].dropna()"
   ]
  },
  {
   "cell_type": "code",
   "execution_count": null,
   "metadata": {
    "collapsed": true
   },
   "outputs": [],
   "source": [
    "# Remember to save the file at the end\n",
    "data.to_json('8oct_pre_processed-pol_sent.json')"
   ]
  }
 ],
 "metadata": {
  "kernelspec": {
   "display_name": "Python [default]",
   "language": "python",
   "name": "python3"
  },
  "language_info": {
   "codemirror_mode": {
    "name": "ipython",
    "version": 3
   },
   "file_extension": ".py",
   "mimetype": "text/x-python",
   "name": "python",
   "nbconvert_exporter": "python",
   "pygments_lexer": "ipython3",
   "version": "3.6.2"
  }
 },
 "nbformat": 4,
 "nbformat_minor": 2
}
