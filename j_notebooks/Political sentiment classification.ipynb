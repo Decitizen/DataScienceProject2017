{
 "cells": [
  {
   "cell_type": "code",
   "execution_count": null,
   "metadata": {
    "collapsed": true
   },
   "outputs": [],
   "source": [
    "import os\n",
    "import numpy as np\n",
    "import pandas as pd"
   ]
  },
  {
   "cell_type": "code",
   "execution_count": null,
   "metadata": {
    "collapsed": true
   },
   "outputs": [],
   "source": [
    "# Read the data\n",
    "data = pd.read_json('8oct_pre_processed.json')"
   ]
  },
  {
   "cell_type": "code",
   "execution_count": null,
   "metadata": {
    "collapsed": true
   },
   "outputs": [],
   "source": [
    "'''This is the script, parameters taken: \n",
    "   original_dataframe: original pandas-dataframe (no filterings), \n",
    "   hashtag: the hashtag you want to select (as a string)\n",
    "   lang: for example 'en' or 'es'\n",
    "'''\n",
    "\n",
    "def classify_political_sentiment(original_dataframe, hashtag, lang):\n",
    "    if 'pol_sentiment' not in original_dataframe.columns:\n",
    "        original_dataframe['pol_sentiment'] = [-99 for i in range(original_dataframe.shape[0])]\n",
    "    \n",
    "    stop_flag = False\n",
    "    \n",
    "    for index, row in original_dataframe.iterrows():\n",
    "        hashtags = row['hashtags']\n",
    "        \n",
    "        if (row['is_retweet'] == 0) & (hashtag in hashtags) & (row['lang'] == lang): \n",
    "            print(\"-----------\\nTweet: \")\n",
    "            print(str(row['text'] + \"\\n\\n\"))\n",
    "            \n",
    "            \n",
    "            while True:\n",
    "                n = int(input(\"Input a political sentiment score on a scale (againts indep) -5 to 5 (for indep), or 99 to exit: \"))\n",
    "                if n == 99:\n",
    "                    stop_flag = True\n",
    "                    print(\"Exiting.\\n\")\n",
    "                    break  # stops the loop\n",
    "                    \n",
    "                elif n >= -5 & n <= 5:\n",
    "                    print(\"Rated:\", n, \"\\n\")\n",
    "                    original_dataframe.loc[index, 'pol_sentiment'] = n\n",
    "                    break\n",
    "                else:\n",
    "                    print('Not a proper input, try again.')\n",
    "                    \n",
    "        if stop_flag:\n",
    "            break\n"
   ]
  },
  {
   "cell_type": "code",
   "execution_count": null,
   "metadata": {
    "collapsed": true
   },
   "outputs": [],
   "source": [
    "# Run the script with chosen parameters,\n",
    "# follow the instructions on the terminal window,\n",
    "# input 99 to exit.\n",
    "classify_political_sentiment(data, 'recuperemelseny', 'en')"
   ]
  },
  {
   "cell_type": "code",
   "execution_count": null,
   "metadata": {
    "collapsed": true
   },
   "outputs": [],
   "source": [
    "# Remember to save the file at the end\n",
    "data.to_json('8oct_pre_processed-pol_sent.json')"
   ]
  }
 ],
 "metadata": {
  "kernelspec": {
   "display_name": "Python [default]",
   "language": "python",
   "name": "python3"
  },
  "language_info": {
   "codemirror_mode": {
    "name": "ipython",
    "version": 3
   },
   "file_extension": ".py",
   "mimetype": "text/x-python",
   "name": "python",
   "nbconvert_exporter": "python",
   "pygments_lexer": "ipython3",
   "version": "3.6.2"
  }
 },
 "nbformat": 4,
 "nbformat_minor": 2
}
