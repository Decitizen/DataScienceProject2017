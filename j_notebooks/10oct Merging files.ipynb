{
 "cells": [
  {
   "cell_type": "markdown",
   "metadata": {},
   "source": [
    "# Merging the 10th October datasets\n",
    "Now that the data is in a more convenient file sizes, it will ease up our analysis if we re-merge files into a single one. Here's a short script for that. __Note__: this works only if the files are in the same root folder with the jupyter notebook-file. __If they are not__, you have 2 different options:\n",
    "\n",
    "1. assign a custom path for the __home__-variable which equals to the directory where the files are\n",
    "2. just copy the jupyter notebook-file to the same folder with the files"
   ]
  },
  {
   "cell_type": "code",
   "execution_count": null,
   "metadata": {
    "collapsed": true
   },
   "outputs": [],
   "source": [
    "import os\n",
    "import numpy as np\n",
    "import pandas as pd\n",
    "\n",
    "# With os.getcwd() you get an absolute path to your current working directory\n",
    "home = os.getcwd()"
   ]
  },
  {
   "cell_type": "code",
   "execution_count": null,
   "metadata": {
    "collapsed": true
   },
   "outputs": [],
   "source": [
    "# Import cleaned data\n",
    "data1 = pd.read_json(home + '/10oct_pre_processed1.json')\n",
    "data2 = pd.read_json(home + '/10oct_pre_processed2.json')\n",
    "data3 = pd.read_json(home + '/10oct_pre_processed2.json')\n",
    "\n",
    "# Drop the column 'infl_score' from the first dataset\n",
    "data1.drop(['infl_score'], axis=1)\n",
    "\n",
    "# Merge into one\n",
    "frames = [data1,data2,data3]\n",
    "data = pd.concat(frames)"
   ]
  },
  {
   "cell_type": "markdown",
   "metadata": {},
   "source": [
    "## Write data to disk\n",
    "Notice that we are using options/parameters\n",
    "```python \n",
    "lines=True, orient=\"records\"\n",
    "``` \n",
    "for the `DataFrame.to_json`-method. Remember that when you'll be reading/importing the files to another script, you'll need to use the same options/parameters for the read-procedure."
   ]
  },
  {
   "cell_type": "code",
   "execution_count": null,
   "metadata": {
    "collapsed": true
   },
   "outputs": [],
   "source": [
    "# Write the merged dataset to disk\n",
    "data.to_json(home + '/10oct_pre_processed_merged.json', lines=True, orient=\"records\")"
   ]
  }
 ],
 "metadata": {
  "kernelspec": {
   "display_name": "Python [conda env:deepenv1]",
   "language": "python",
   "name": "conda-env-deepenv1-py"
  },
  "language_info": {
   "codemirror_mode": {
    "name": "ipython",
    "version": 3
   },
   "file_extension": ".py",
   "mimetype": "text/x-python",
   "name": "python",
   "nbconvert_exporter": "python",
   "pygments_lexer": "ipython3",
   "version": "3.6.2"
  }
 },
 "nbformat": 4,
 "nbformat_minor": 2
}
