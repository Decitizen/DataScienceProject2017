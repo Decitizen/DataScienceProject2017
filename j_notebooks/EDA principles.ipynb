{
 "cells": [
  {
   "cell_type": "markdown",
   "metadata": {},
   "source": [
    "# Exploratory Data Analysis\n",
    "###  Principles of analytic graphics (by Edward Tuffey)\n",
    "Primary Source: [Coursera: Exploratory data analysis](https://www.coursera.org/learn/exploratory-data-analysis)\n",
    "#### 1. Show Comparisons\n",
    "* Differences can only be recognized in relation to something 'other'\n",
    "* $ \\implies $ hypothesis can only be made in relation to a given context\n",
    "\n",
    "#### 2. Show causality, mechanism, explanation, systematic structure\n",
    "* What is __the possible causal mechanism/explanation__ behind the particular phenomenon?\n",
    "* Think about how to further investigate and best communicate the mechanisms to public\n",
    "\n",
    "#### 3.  Show multivariate data\n",
    "* World is inherently multi-dimensional\n",
    "* Don't adhere to oversimplifications/overt reductionism\n",
    "* Show as much data and richness as is possible without making the graphical presentation messy\n",
    "\n",
    "#### 4. Integration of evidence\n",
    "* Don't only show a plot or a table -> combine different medias in order to help different people to get the max amount of information out of your presentation\n",
    "* Don't let the tools restrict you $ \\implies $ __*don't create the plot that the tool easily lets you to make, instead make the graph that you want to create*__ \n",
    "* Operate outside of the box and try to create a multi-media presentation\n",
    "\n",
    "#### 5. Describe and document the evidence with approriate labels, scales, ques, sources\n",
    "* Make the story as credible as possible \n",
    "\n",
    "#### 6. Content is the king\n",
    "* Ensure that your narrative carries meaning and purpose\n",
    "* No amount of presentation and presentation techniques makes a empty narrative interesting "
   ]
  }
 ],
 "metadata": {
  "kernelspec": {
   "display_name": "Python [default]",
   "language": "python",
   "name": "python3"
  },
  "language_info": {
   "codemirror_mode": {
    "name": "ipython",
    "version": 3
   },
   "file_extension": ".py",
   "mimetype": "text/x-python",
   "name": "python",
   "nbconvert_exporter": "python",
   "pygments_lexer": "ipython3",
   "version": "3.6.2"
  }
 },
 "nbformat": 4,
 "nbformat_minor": 2
}
