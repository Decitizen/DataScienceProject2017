{
 "cells": [
  {
   "cell_type": "code",
   "execution_count": 6,
   "metadata": {},
   "outputs": [
    {
     "name": "stdout",
     "output_type": "stream",
     "text": [
      "Populating the interactive namespace from numpy and matplotlib\n"
     ]
    }
   ],
   "source": [
    "import PIL\n",
    "from osmviz.manager import PILImageManager, OSMManager\n",
    "import matplotlib as mplt\n",
    "from PIL import ImageDraw, ImageFont\n",
    "from IPython.display import Image\n",
    "import pandas as pd\n",
    "%pylab inline"
   ]
  },
  {
   "cell_type": "markdown",
   "metadata": {},
   "source": [
    "# Generating a Heatmap on the Data\n",
    "This is based on the great blog post by [Manuel Garrido](http://blog.manugarri.com/plotting-100k-tweets-from-my-home-town/). Note that you need to install osmviz."
   ]
  },
  {
   "cell_type": "code",
   "execution_count": null,
   "metadata": {
    "collapsed": true
   },
   "outputs": [],
   "source": [
    "data = pd.read_json('10oct_es_sentiment.json', orient='records', lines=True)"
   ]
  },
  {
   "cell_type": "code",
   "execution_count": null,
   "metadata": {
    "collapsed": true
   },
   "outputs": [],
   "source": [
    "#data10oct = data[data['coordinates'].notnull()]\n",
    "data8oct = data[data['coordinates'].notnull()]"
   ]
  },
  {
   "cell_type": "code",
   "execution_count": null,
   "metadata": {
    "collapsed": true
   },
   "outputs": [],
   "source": [
    "def filter_spain(df):\n",
    "    max_lat = 43.780513\n",
    "    min_lat = 36.317416\n",
    "    max_lon = 3.139475\n",
    "    min_lon = -9.278242\n",
    "    bool_array = []\n",
    "    for i in range(df.shape[0]):\n",
    "        coord = df.iloc[i,0]['coordinates']\n",
    "        if (coord[0] > min_lon) & (coord[0] < max_lon) & (coord[1] > min_lat) & (coord[1] < max_lat):\n",
    "            bool_array.append(True)\n",
    "        else:\n",
    "            bool_array.append(False)\n",
    "    return df[bool_array]"
   ]
  },
  {
   "cell_type": "code",
   "execution_count": null,
   "metadata": {
    "collapsed": true
   },
   "outputs": [],
   "source": [
    "def format_coordinates(df):\n",
    "    coords = []\n",
    "    for i in range(df.shape[0]):\n",
    "        coord = str(str(df.iloc[i,0]['coordinates'][1]) + \" \" + str(df.iloc[i,0]['coordinates'][0]))\n",
    "        coords.append(coord)\n",
    "\n",
    "    return coords"
   ]
  },
  {
   "cell_type": "code",
   "execution_count": null,
   "metadata": {
    "collapsed": true
   },
   "outputs": [],
   "source": [
    "#data10oct = format_coordinates(data10oct)\n",
    "data8oct = filter_spain(data8oct)\n",
    "#data10oct['coordinates'] = format_coordinates(data10oct)\n",
    "data8oct['coordinates'] = format_coordinates(data8oct)"
   ]
  },
  {
   "cell_type": "code",
   "execution_count": 20,
   "metadata": {
    "collapsed": true
   },
   "outputs": [],
   "source": [
    "data10oct['coordinates'].to_csv('tweets_heatmap', sep=\"\\n\", index=False, header=False)"
   ]
  },
  {
   "cell_type": "code",
   "execution_count": 57,
   "metadata": {
    "collapsed": true
   },
   "outputs": [],
   "source": [
    "data8oct['coordinates'].to_csv('tweets_heatmap2', sep=\"\\n\", index=False, header=False)"
   ]
  },
  {
   "cell_type": "markdown",
   "metadata": {},
   "source": [
    "## Using heatmap.py"
   ]
  },
  {
   "cell_type": "code",
   "execution_count": 7,
   "metadata": {},
   "outputs": [
    {
     "name": "stdout",
     "output_type": "stream",
     "text": [
      "      18 ms  // hsva_min: 000ffff00/n hsva_max: 02affffff\r\n",
      "      19 ms  // Reading from points: tweets_heatmap\r\n",
      "      19 ms  // reading input data\r\n",
      "      19 ms  // reading points from tweets_heatmap\r\n",
      "      20 ms  // read 113 points\r\n",
      "      20 ms  // read 113 shapes\r\n",
      "      21 ms  // scale: 0.000146 meters/pixel (763549741.511111 pixels/degree)\r\n",
      "      21 ms  // Choosing OSM zoom level 7\r\n",
      "      21 ms  // scale: 1222.992453 meters/pixel (91.022222 pixels/degree)\r\n",
      "      21 ms  // ImportError: No module named osmviz.manager.\r\n",
      "The --osm option depends on the osmviz module, available from\r\n",
      "http://cbick.github.com/osmviz/\r\n",
      "\r\n",
      "\r\n"
     ]
    }
   ],
   "source": [
    "!python2 heatmap.py \\\n",
    "--debug \\\n",
    "-b black \\\n",
    "-p tweets_heatmap \\\n",
    "-W 1800 \\\n",
    "-o spain_tweets8oct.png \\\n",
    "-P equirectangular \\\n",
    "--osm \\\n",
    "--osm_base=http://a.basemaps.cartocdn.com/dark_all/ \\\n",
    "--decay 0.1  -v -r 20"
   ]
  },
  {
   "cell_type": "code",
   "execution_count": 33,
   "metadata": {
    "collapsed": true
   },
   "outputs": [],
   "source": [
    "image_pil = PIL.Image.open('spain_tweets10oct.png')\n",
    "draw = ImageDraw.Draw(image_pil)\n",
    "font = ImageFont.truetype(\"/usr/share/fonts/truetype/tlwg/TlwgTypewriter-Bold.ttf\", 30)\n",
    "draw.text((1200, 2200),\"Spain, 10th October: 113 Tweets.\",(200,200,200), font=font)\n",
    "draw.text((1200, 2250),\"© OpenStreetMap contributors\",(180,180,180), font=font)\n",
    "\n",
    "image_pil.save('spain_tweets10oct.png')"
   ]
  },
  {
   "cell_type": "code",
   "execution_count": null,
   "metadata": {
    "collapsed": true
   },
   "outputs": [],
   "source": [
    "image_pil = PIL.Image.open('spain_tweets10oct.png')\n",
    "draw = ImageDraw.Draw(image_pil)\n",
    "font = ImageFont.truetype(\"/usr/share/fonts/truetype/tlwg/TlwgTypewriter-Bold.ttf\", 30)\n",
    "draw.text((1200, 2200),\"Spain, 10th October: 113 Tweets.\",(200,200,200), font=font)\n",
    "draw.text((1200, 2250),\"© OpenStreetMap contributors\",(180,180,180), font=font)\n",
    "\n",
    "image_pil.save('spain_tweets10oct.png')"
   ]
  }
 ],
 "metadata": {
  "kernelspec": {
   "display_name": "Python 3",
   "language": "python",
   "name": "python3"
  },
  "language_info": {
   "codemirror_mode": {
    "name": "ipython",
    "version": 3
   },
   "file_extension": ".py",
   "mimetype": "text/x-python",
   "name": "python",
   "nbconvert_exporter": "python",
   "pygments_lexer": "ipython3",
   "version": "3.6.2"
  }
 },
 "nbformat": 4,
 "nbformat_minor": 2
}
