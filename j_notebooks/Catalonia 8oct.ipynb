{
 "cells": [
  {
   "cell_type": "code",
   "execution_count": 25,
   "metadata": {
    "collapsed": true,
    "nbpresent": {
     "id": "03f390b1-911f-4850-8c79-4481098e1a03"
    }
   },
   "outputs": [],
   "source": [
    "import os\n",
    "import numpy as np\n",
    "import pandas as pd\n",
    "import matplotlib as plt\n",
    "import collections\n",
    "import operator\n",
    "\n",
    "# Absolute path to current working directory\n",
    "home = os.getcwd()"
   ]
  },
  {
   "cell_type": "code",
   "execution_count": 7,
   "metadata": {},
   "outputs": [],
   "source": [
    "# Import cleaned data (if you used the \"10oct Merging files\"-script and want to import 10oct data, then use )\n",
    "data = pd.read_json(home + '/8oct_pre_processed.json')"
   ]
  },
  {
   "cell_type": "markdown",
   "metadata": {
    "nbpresent": {
     "id": "be2de7ed-1e83-4e22-99b2-b0da49950f3a"
    }
   },
   "source": [
    "# Calculate simple influence score for each tweet\n",
    "Simple influence score is calculated using following formula:  \n",
    "\n",
    "$ S_{infl} = \\alpha*|favorites|+\\beta*|retweets| $\n",
    "\n",
    ", where $ \\alpha $ represents the weight given for favorite and $ \\beta $ weight given for retweet. Here we are using values $ \\alpha = 1 $ and $ \\beta = 3 $, which give a very rough approximate of the amount of social influence gained by each tweet."
   ]
  },
  {
   "cell_type": "code",
   "execution_count": 10,
   "metadata": {
    "collapsed": true,
    "nbpresent": {
     "id": "868ee299-d756-458e-bcbf-71ef3b36b816"
    }
   },
   "outputs": [],
   "source": [
    "data['infl_score'] = data['favorite_count'] + (3 * data['retweet_count'])"
   ]
  },
  {
   "cell_type": "markdown",
   "metadata": {
    "nbpresent": {
     "id": "3e2e32f1-39b7-4cb9-955a-f68df8ba0307"
    }
   },
   "source": [
    "# Top 20 lists\n",
    "# 1. Retweet count by person\n",
    "## Including retweets"
   ]
  },
  {
   "cell_type": "code",
   "execution_count": 12,
   "metadata": {
    "nbpresent": {
     "id": "4c5e3dca-e6a1-4469-bd1c-4754931e0703"
    }
   },
   "outputs": [
    {
     "data": {
      "text/html": [
       "<div>\n",
       "<style>\n",
       "    .dataframe thead tr:only-child th {\n",
       "        text-align: right;\n",
       "    }\n",
       "\n",
       "    .dataframe thead th {\n",
       "        text-align: left;\n",
       "    }\n",
       "\n",
       "    .dataframe tbody tr th {\n",
       "        vertical-align: top;\n",
       "    }\n",
       "</style>\n",
       "<table border=\"1\" class=\"dataframe\">\n",
       "  <thead>\n",
       "    <tr style=\"text-align: right;\">\n",
       "      <th></th>\n",
       "      <th></th>\n",
       "      <th>infl_score</th>\n",
       "      <th>favorite_count</th>\n",
       "      <th>user_followers_count</th>\n",
       "    </tr>\n",
       "    <tr>\n",
       "      <th>retweet_count</th>\n",
       "      <th>user_name</th>\n",
       "      <th></th>\n",
       "      <th></th>\n",
       "      <th></th>\n",
       "    </tr>\n",
       "  </thead>\n",
       "  <tbody>\n",
       "    <tr>\n",
       "      <th rowspan=\"2\" valign=\"top\">86211</th>\n",
       "      <th>Irune</th>\n",
       "      <td>258633</td>\n",
       "      <td>0</td>\n",
       "      <td>9</td>\n",
       "    </tr>\n",
       "    <tr>\n",
       "      <th>Ferran Quinto</th>\n",
       "      <td>258633</td>\n",
       "      <td>0</td>\n",
       "      <td>61</td>\n",
       "    </tr>\n",
       "    <tr>\n",
       "      <th>86210</th>\n",
       "      <th>Eli</th>\n",
       "      <td>258630</td>\n",
       "      <td>0</td>\n",
       "      <td>7</td>\n",
       "    </tr>\n",
       "    <tr>\n",
       "      <th rowspan=\"3\" valign=\"top\">86207</th>\n",
       "      <th>smon.bcn</th>\n",
       "      <td>258621</td>\n",
       "      <td>0</td>\n",
       "      <td>0</td>\n",
       "    </tr>\n",
       "    <tr>\n",
       "      <th>SandraCBH</th>\n",
       "      <td>258621</td>\n",
       "      <td>0</td>\n",
       "      <td>314</td>\n",
       "    </tr>\n",
       "    <tr>\n",
       "      <th>Pol Roig</th>\n",
       "      <td>258621</td>\n",
       "      <td>0</td>\n",
       "      <td>5</td>\n",
       "    </tr>\n",
       "    <tr>\n",
       "      <th>82717</th>\n",
       "      <th>D. Justicia</th>\n",
       "      <td>248151</td>\n",
       "      <td>0</td>\n",
       "      <td>9</td>\n",
       "    </tr>\n",
       "    <tr>\n",
       "      <th>78483</th>\n",
       "      <th>al ☀</th>\n",
       "      <td>235449</td>\n",
       "      <td>0</td>\n",
       "      <td>434</td>\n",
       "    </tr>\n",
       "    <tr>\n",
       "      <th>58465</th>\n",
       "      <th>thatERguy</th>\n",
       "      <td>175395</td>\n",
       "      <td>0</td>\n",
       "      <td>5508</td>\n",
       "    </tr>\n",
       "    <tr>\n",
       "      <th>56994</th>\n",
       "      <th>Lluc Caminacels</th>\n",
       "      <td>170982</td>\n",
       "      <td>0</td>\n",
       "      <td>643</td>\n",
       "    </tr>\n",
       "    <tr>\n",
       "      <th rowspan=\"6\" valign=\"top\">54292</th>\n",
       "      <th>maweo</th>\n",
       "      <td>162876</td>\n",
       "      <td>0</td>\n",
       "      <td>357</td>\n",
       "    </tr>\n",
       "    <tr>\n",
       "      <th>ivan gonzalez</th>\n",
       "      <td>162876</td>\n",
       "      <td>0</td>\n",
       "      <td>127</td>\n",
       "    </tr>\n",
       "    <tr>\n",
       "      <th>ManOnTheMoon</th>\n",
       "      <td>162876</td>\n",
       "      <td>0</td>\n",
       "      <td>308</td>\n",
       "    </tr>\n",
       "    <tr>\n",
       "      <th>Hustla Baby</th>\n",
       "      <td>162876</td>\n",
       "      <td>0</td>\n",
       "      <td>1056</td>\n",
       "    </tr>\n",
       "    <tr>\n",
       "      <th>Gemini 🌸</th>\n",
       "      <td>162876</td>\n",
       "      <td>0</td>\n",
       "      <td>286</td>\n",
       "    </tr>\n",
       "    <tr>\n",
       "      <th>Ernesto Parra</th>\n",
       "      <td>162876</td>\n",
       "      <td>0</td>\n",
       "      <td>185</td>\n",
       "    </tr>\n",
       "    <tr>\n",
       "      <th rowspan=\"2\" valign=\"top\">54291</th>\n",
       "      <th>🔔juzo Rei Suzuya🔔</th>\n",
       "      <td>162873</td>\n",
       "      <td>0</td>\n",
       "      <td>1694</td>\n",
       "    </tr>\n",
       "    <tr>\n",
       "      <th>Sergi Doladé</th>\n",
       "      <td>162873</td>\n",
       "      <td>0</td>\n",
       "      <td>1228</td>\n",
       "    </tr>\n",
       "    <tr>\n",
       "      <th>54290</th>\n",
       "      <th>||☆|| RG ||☆||</th>\n",
       "      <td>162870</td>\n",
       "      <td>0</td>\n",
       "      <td>784</td>\n",
       "    </tr>\n",
       "  </tbody>\n",
       "</table>\n",
       "</div>"
      ],
      "text/plain": [
       "                                 infl_score  favorite_count  \\\n",
       "retweet_count user_name                                       \n",
       "86211         Irune                  258633               0   \n",
       "              Ferran Quinto          258633               0   \n",
       "86210         Eli                    258630               0   \n",
       "86207         smon.bcn               258621               0   \n",
       "              SandraCBH              258621               0   \n",
       "              Pol Roig               258621               0   \n",
       "82717         D. Justicia            248151               0   \n",
       "78483         al ☀                   235449               0   \n",
       "58465         thatERguy              175395               0   \n",
       "56994         Lluc Caminacels        170982               0   \n",
       "54292         maweo                  162876               0   \n",
       "              ivan gonzalez          162876               0   \n",
       "              ManOnTheMoon           162876               0   \n",
       "              Hustla Baby            162876               0   \n",
       "              Gemini 🌸               162876               0   \n",
       "              Ernesto Parra          162876               0   \n",
       "54291         🔔juzo Rei Suzuya🔔      162873               0   \n",
       "              Sergi Doladé           162873               0   \n",
       "54290         ||☆|| RG ||☆||         162870               0   \n",
       "\n",
       "                                 user_followers_count  \n",
       "retweet_count user_name                                \n",
       "86211         Irune                                 9  \n",
       "              Ferran Quinto                        61  \n",
       "86210         Eli                                   7  \n",
       "86207         smon.bcn                              0  \n",
       "              SandraCBH                           314  \n",
       "              Pol Roig                              5  \n",
       "82717         D. Justicia                           9  \n",
       "78483         al ☀                                434  \n",
       "58465         thatERguy                          5508  \n",
       "56994         Lluc Caminacels                     643  \n",
       "54292         maweo                               357  \n",
       "              ivan gonzalez                       127  \n",
       "              ManOnTheMoon                        308  \n",
       "              Hustla Baby                        1056  \n",
       "              Gemini 🌸                            286  \n",
       "              Ernesto Parra                       185  \n",
       "54291         🔔juzo Rei Suzuya🔔                  1694  \n",
       "              Sergi Doladé                       1228  \n",
       "54290         ||☆|| RG ||☆||                      784  "
      ]
     },
     "execution_count": 12,
     "metadata": {},
     "output_type": "execute_result"
    }
   ],
   "source": [
    "# Retweets by person\n",
    "data.groupby(['retweet_count', 'user_name'])['infl_score','favorite_count','user_followers_count'].sum()[-1:-20:-1]"
   ]
  },
  {
   "cell_type": "markdown",
   "metadata": {
    "nbpresent": {
     "id": "3ac7876f-20da-4c8b-bade-e0b1f6e2d01b"
    }
   },
   "source": [
    "## Excluding retweets"
   ]
  },
  {
   "cell_type": "code",
   "execution_count": 13,
   "metadata": {
    "nbpresent": {
     "id": "b6197294-c8f2-4078-b090-e857ac07698c"
    }
   },
   "outputs": [
    {
     "data": {
      "text/html": [
       "<div>\n",
       "<style>\n",
       "    .dataframe thead tr:only-child th {\n",
       "        text-align: right;\n",
       "    }\n",
       "\n",
       "    .dataframe thead th {\n",
       "        text-align: left;\n",
       "    }\n",
       "\n",
       "    .dataframe tbody tr th {\n",
       "        vertical-align: top;\n",
       "    }\n",
       "</style>\n",
       "<table border=\"1\" class=\"dataframe\">\n",
       "  <thead>\n",
       "    <tr style=\"text-align: right;\">\n",
       "      <th></th>\n",
       "      <th></th>\n",
       "      <th>infl_score</th>\n",
       "      <th>favorite_count</th>\n",
       "      <th>user_followers_count</th>\n",
       "    </tr>\n",
       "    <tr>\n",
       "      <th>retweet_count</th>\n",
       "      <th>user_screen_name</th>\n",
       "      <th></th>\n",
       "      <th></th>\n",
       "      <th></th>\n",
       "    </tr>\n",
       "  </thead>\n",
       "  <tbody>\n",
       "    <tr>\n",
       "      <th>12530</th>\n",
       "      <th>DaniMateoAgain</th>\n",
       "      <td>49459</td>\n",
       "      <td>11869</td>\n",
       "      <td>1298240</td>\n",
       "    </tr>\n",
       "    <tr>\n",
       "      <th>11832</th>\n",
       "      <th>SitaJurado</th>\n",
       "      <td>41000</td>\n",
       "      <td>5504</td>\n",
       "      <td>1969</td>\n",
       "    </tr>\n",
       "    <tr>\n",
       "      <th>11672</th>\n",
       "      <th>MACamposP</th>\n",
       "      <td>43801</td>\n",
       "      <td>8785</td>\n",
       "      <td>6539</td>\n",
       "    </tr>\n",
       "    <tr>\n",
       "      <th>8840</th>\n",
       "      <th>KofiAnnan</th>\n",
       "      <td>35931</td>\n",
       "      <td>9411</td>\n",
       "      <td>196645</td>\n",
       "    </tr>\n",
       "    <tr>\n",
       "      <th>7375</th>\n",
       "      <th>policia</th>\n",
       "      <td>35971</td>\n",
       "      <td>13846</td>\n",
       "      <td>2977466</td>\n",
       "    </tr>\n",
       "    <tr>\n",
       "      <th>7264</th>\n",
       "      <th>SPAINonymous</th>\n",
       "      <td>23908</td>\n",
       "      <td>2116</td>\n",
       "      <td>5386</td>\n",
       "    </tr>\n",
       "    <tr>\n",
       "      <th>6880</th>\n",
       "      <th>Ruptly</th>\n",
       "      <td>22611</td>\n",
       "      <td>1971</td>\n",
       "      <td>49574</td>\n",
       "    </tr>\n",
       "    <tr>\n",
       "      <th>6259</th>\n",
       "      <th>depera1</th>\n",
       "      <td>23814</td>\n",
       "      <td>5037</td>\n",
       "      <td>6408</td>\n",
       "    </tr>\n",
       "    <tr>\n",
       "      <th>6203</th>\n",
       "      <th>directe</th>\n",
       "      <td>20575</td>\n",
       "      <td>1966</td>\n",
       "      <td>40345</td>\n",
       "    </tr>\n",
       "    <tr>\n",
       "      <th>6106</th>\n",
       "      <th>Berlustinho</th>\n",
       "      <td>21624</td>\n",
       "      <td>3306</td>\n",
       "      <td>74843</td>\n",
       "    </tr>\n",
       "    <tr>\n",
       "      <th>6052</th>\n",
       "      <th>Ruptly</th>\n",
       "      <td>19900</td>\n",
       "      <td>1744</td>\n",
       "      <td>49574</td>\n",
       "    </tr>\n",
       "    <tr>\n",
       "      <th>5262</th>\n",
       "      <th>VBaena</th>\n",
       "      <td>25779</td>\n",
       "      <td>9993</td>\n",
       "      <td>842</td>\n",
       "    </tr>\n",
       "    <tr>\n",
       "      <th>4425</th>\n",
       "      <th>Independent</th>\n",
       "      <td>14609</td>\n",
       "      <td>1334</td>\n",
       "      <td>2384329</td>\n",
       "    </tr>\n",
       "    <tr>\n",
       "      <th>4360</th>\n",
       "      <th>Elaguijon_</th>\n",
       "      <td>18134</td>\n",
       "      <td>5054</td>\n",
       "      <td>43318</td>\n",
       "    </tr>\n",
       "    <tr>\n",
       "      <th>4159</th>\n",
       "      <th>DiegoPodemos</th>\n",
       "      <td>14656</td>\n",
       "      <td>2179</td>\n",
       "      <td>2906</td>\n",
       "    </tr>\n",
       "    <tr>\n",
       "      <th>3802</th>\n",
       "      <th>Berlustinho</th>\n",
       "      <td>13790</td>\n",
       "      <td>2384</td>\n",
       "      <td>74803</td>\n",
       "    </tr>\n",
       "    <tr>\n",
       "      <th>3641</th>\n",
       "      <th>salvadorcardus</th>\n",
       "      <td>13900</td>\n",
       "      <td>2977</td>\n",
       "      <td>53170</td>\n",
       "    </tr>\n",
       "    <tr>\n",
       "      <th>3486</th>\n",
       "      <th>jmangues</th>\n",
       "      <td>13052</td>\n",
       "      <td>2594</td>\n",
       "      <td>12616</td>\n",
       "    </tr>\n",
       "    <tr>\n",
       "      <th>3190</th>\n",
       "      <th>JulianAssange</th>\n",
       "      <td>11556</td>\n",
       "      <td>1986</td>\n",
       "      <td>469399</td>\n",
       "    </tr>\n",
       "  </tbody>\n",
       "</table>\n",
       "</div>"
      ],
      "text/plain": [
       "                                infl_score  favorite_count  \\\n",
       "retweet_count user_screen_name                               \n",
       "12530         DaniMateoAgain         49459           11869   \n",
       "11832         SitaJurado             41000            5504   \n",
       "11672         MACamposP              43801            8785   \n",
       "8840          KofiAnnan              35931            9411   \n",
       "7375          policia                35971           13846   \n",
       "7264          SPAINonymous           23908            2116   \n",
       "6880          Ruptly                 22611            1971   \n",
       "6259          depera1                23814            5037   \n",
       "6203          directe                20575            1966   \n",
       "6106          Berlustinho            21624            3306   \n",
       "6052          Ruptly                 19900            1744   \n",
       "5262          VBaena                 25779            9993   \n",
       "4425          Independent            14609            1334   \n",
       "4360          Elaguijon_             18134            5054   \n",
       "4159          DiegoPodemos           14656            2179   \n",
       "3802          Berlustinho            13790            2384   \n",
       "3641          salvadorcardus         13900            2977   \n",
       "3486          jmangues               13052            2594   \n",
       "3190          JulianAssange          11556            1986   \n",
       "\n",
       "                                user_followers_count  \n",
       "retweet_count user_screen_name                        \n",
       "12530         DaniMateoAgain                 1298240  \n",
       "11832         SitaJurado                        1969  \n",
       "11672         MACamposP                         6539  \n",
       "8840          KofiAnnan                       196645  \n",
       "7375          policia                        2977466  \n",
       "7264          SPAINonymous                      5386  \n",
       "6880          Ruptly                           49574  \n",
       "6259          depera1                           6408  \n",
       "6203          directe                          40345  \n",
       "6106          Berlustinho                      74843  \n",
       "6052          Ruptly                           49574  \n",
       "5262          VBaena                             842  \n",
       "4425          Independent                    2384329  \n",
       "4360          Elaguijon_                       43318  \n",
       "4159          DiegoPodemos                      2906  \n",
       "3802          Berlustinho                      74803  \n",
       "3641          salvadorcardus                   53170  \n",
       "3486          jmangues                         12616  \n",
       "3190          JulianAssange                   469399  "
      ]
     },
     "execution_count": 13,
     "metadata": {},
     "output_type": "execute_result"
    }
   ],
   "source": [
    "# Retweets by person\n",
    "data[data['is_retweet'] == 0].groupby(['retweet_count','user_screen_name'])['infl_score','favorite_count','user_followers_count'].sum()[-1:-20:-1]"
   ]
  },
  {
   "cell_type": "markdown",
   "metadata": {
    "nbpresent": {
     "id": "607d6dab-1066-4d4b-961a-3daa2094afba"
    }
   },
   "source": [
    "# 2. Favorite count by person\n",
    "## Including retweets"
   ]
  },
  {
   "cell_type": "code",
   "execution_count": 14,
   "metadata": {
    "nbpresent": {
     "id": "b253ce3b-fcd9-4afa-9980-fa8938b8be78"
    }
   },
   "outputs": [
    {
     "data": {
      "text/html": [
       "<div>\n",
       "<style>\n",
       "    .dataframe thead tr:only-child th {\n",
       "        text-align: right;\n",
       "    }\n",
       "\n",
       "    .dataframe thead th {\n",
       "        text-align: left;\n",
       "    }\n",
       "\n",
       "    .dataframe tbody tr th {\n",
       "        vertical-align: top;\n",
       "    }\n",
       "</style>\n",
       "<table border=\"1\" class=\"dataframe\">\n",
       "  <thead>\n",
       "    <tr style=\"text-align: right;\">\n",
       "      <th></th>\n",
       "      <th></th>\n",
       "      <th>infl_score</th>\n",
       "      <th>retweet_count</th>\n",
       "      <th>user_followers_count</th>\n",
       "    </tr>\n",
       "    <tr>\n",
       "      <th>favorite_count</th>\n",
       "      <th>user_screen_name</th>\n",
       "      <th></th>\n",
       "      <th></th>\n",
       "      <th></th>\n",
       "    </tr>\n",
       "  </thead>\n",
       "  <tbody>\n",
       "    <tr>\n",
       "      <th>13846</th>\n",
       "      <th>policia</th>\n",
       "      <td>35971</td>\n",
       "      <td>7375</td>\n",
       "      <td>2977466</td>\n",
       "    </tr>\n",
       "    <tr>\n",
       "      <th>11869</th>\n",
       "      <th>DaniMateoAgain</th>\n",
       "      <td>49459</td>\n",
       "      <td>12530</td>\n",
       "      <td>1298240</td>\n",
       "    </tr>\n",
       "    <tr>\n",
       "      <th>9993</th>\n",
       "      <th>VBaena</th>\n",
       "      <td>25779</td>\n",
       "      <td>5262</td>\n",
       "      <td>842</td>\n",
       "    </tr>\n",
       "    <tr>\n",
       "      <th>9411</th>\n",
       "      <th>KofiAnnan</th>\n",
       "      <td>35931</td>\n",
       "      <td>8840</td>\n",
       "      <td>196645</td>\n",
       "    </tr>\n",
       "    <tr>\n",
       "      <th>8785</th>\n",
       "      <th>MACamposP</th>\n",
       "      <td>43801</td>\n",
       "      <td>11672</td>\n",
       "      <td>6539</td>\n",
       "    </tr>\n",
       "    <tr>\n",
       "      <th>6073</th>\n",
       "      <th>JoanTarda</th>\n",
       "      <td>14185</td>\n",
       "      <td>2704</td>\n",
       "      <td>188481</td>\n",
       "    </tr>\n",
       "    <tr>\n",
       "      <th>5504</th>\n",
       "      <th>SitaJurado</th>\n",
       "      <td>41000</td>\n",
       "      <td>11832</td>\n",
       "      <td>1969</td>\n",
       "    </tr>\n",
       "    <tr>\n",
       "      <th>5054</th>\n",
       "      <th>Elaguijon_</th>\n",
       "      <td>18134</td>\n",
       "      <td>4360</td>\n",
       "      <td>43318</td>\n",
       "    </tr>\n",
       "    <tr>\n",
       "      <th>5037</th>\n",
       "      <th>depera1</th>\n",
       "      <td>23814</td>\n",
       "      <td>6259</td>\n",
       "      <td>6408</td>\n",
       "    </tr>\n",
       "    <tr>\n",
       "      <th>4070</th>\n",
       "      <th>SandraGolpeA3TV</th>\n",
       "      <td>7067</td>\n",
       "      <td>999</td>\n",
       "      <td>27468</td>\n",
       "    </tr>\n",
       "    <tr>\n",
       "      <th>4021</th>\n",
       "      <th>Albiol_XG</th>\n",
       "      <td>10579</td>\n",
       "      <td>2186</td>\n",
       "      <td>42660</td>\n",
       "    </tr>\n",
       "    <tr>\n",
       "      <th>3901</th>\n",
       "      <th>philmusical</th>\n",
       "      <td>11995</td>\n",
       "      <td>2698</td>\n",
       "      <td>156089</td>\n",
       "    </tr>\n",
       "    <tr>\n",
       "      <th>3306</th>\n",
       "      <th>Berlustinho</th>\n",
       "      <td>21624</td>\n",
       "      <td>6106</td>\n",
       "      <td>74843</td>\n",
       "    </tr>\n",
       "    <tr>\n",
       "      <th>3275</th>\n",
       "      <th>Kasparov63</th>\n",
       "      <td>8870</td>\n",
       "      <td>1865</td>\n",
       "      <td>382221</td>\n",
       "    </tr>\n",
       "    <tr>\n",
       "      <th>2977</th>\n",
       "      <th>salvadorcardus</th>\n",
       "      <td>13900</td>\n",
       "      <td>3641</td>\n",
       "      <td>53170</td>\n",
       "    </tr>\n",
       "    <tr>\n",
       "      <th>2824</th>\n",
       "      <th>LauraVilchezS</th>\n",
       "      <td>5713</td>\n",
       "      <td>963</td>\n",
       "      <td>2236</td>\n",
       "    </tr>\n",
       "    <tr>\n",
       "      <th>2594</th>\n",
       "      <th>jmangues</th>\n",
       "      <td>13052</td>\n",
       "      <td>3486</td>\n",
       "      <td>12616</td>\n",
       "    </tr>\n",
       "    <tr>\n",
       "      <th>2386</th>\n",
       "      <th>nmichavila</th>\n",
       "      <td>7981</td>\n",
       "      <td>1865</td>\n",
       "      <td>9620</td>\n",
       "    </tr>\n",
       "    <tr>\n",
       "      <th>2384</th>\n",
       "      <th>Berlustinho</th>\n",
       "      <td>13790</td>\n",
       "      <td>3802</td>\n",
       "      <td>74803</td>\n",
       "    </tr>\n",
       "  </tbody>\n",
       "</table>\n",
       "</div>"
      ],
      "text/plain": [
       "                                 infl_score  retweet_count  \\\n",
       "favorite_count user_screen_name                              \n",
       "13846          policia                35971           7375   \n",
       "11869          DaniMateoAgain         49459          12530   \n",
       "9993           VBaena                 25779           5262   \n",
       "9411           KofiAnnan              35931           8840   \n",
       "8785           MACamposP              43801          11672   \n",
       "6073           JoanTarda              14185           2704   \n",
       "5504           SitaJurado             41000          11832   \n",
       "5054           Elaguijon_             18134           4360   \n",
       "5037           depera1                23814           6259   \n",
       "4070           SandraGolpeA3TV         7067            999   \n",
       "4021           Albiol_XG              10579           2186   \n",
       "3901           philmusical            11995           2698   \n",
       "3306           Berlustinho            21624           6106   \n",
       "3275           Kasparov63              8870           1865   \n",
       "2977           salvadorcardus         13900           3641   \n",
       "2824           LauraVilchezS           5713            963   \n",
       "2594           jmangues               13052           3486   \n",
       "2386           nmichavila              7981           1865   \n",
       "2384           Berlustinho            13790           3802   \n",
       "\n",
       "                                 user_followers_count  \n",
       "favorite_count user_screen_name                        \n",
       "13846          policia                        2977466  \n",
       "11869          DaniMateoAgain                 1298240  \n",
       "9993           VBaena                             842  \n",
       "9411           KofiAnnan                       196645  \n",
       "8785           MACamposP                         6539  \n",
       "6073           JoanTarda                       188481  \n",
       "5504           SitaJurado                        1969  \n",
       "5054           Elaguijon_                       43318  \n",
       "5037           depera1                           6408  \n",
       "4070           SandraGolpeA3TV                  27468  \n",
       "4021           Albiol_XG                        42660  \n",
       "3901           philmusical                     156089  \n",
       "3306           Berlustinho                      74843  \n",
       "3275           Kasparov63                      382221  \n",
       "2977           salvadorcardus                   53170  \n",
       "2824           LauraVilchezS                     2236  \n",
       "2594           jmangues                         12616  \n",
       "2386           nmichavila                        9620  \n",
       "2384           Berlustinho                      74803  "
      ]
     },
     "execution_count": 14,
     "metadata": {},
     "output_type": "execute_result"
    }
   ],
   "source": [
    "# Favorites by person\n",
    "data.groupby(['favorite_count', 'user_screen_name'])['infl_score','retweet_count','user_followers_count'].sum()[-1:-20:-1]"
   ]
  },
  {
   "cell_type": "markdown",
   "metadata": {
    "nbpresent": {
     "id": "7e53ec83-b501-40b5-9f8f-d39e52aaaa65"
    }
   },
   "source": [
    "## Excluding retweets"
   ]
  },
  {
   "cell_type": "code",
   "execution_count": 15,
   "metadata": {
    "nbpresent": {
     "id": "704ef48e-1cc1-40ba-a6ba-776ec1ad2502"
    }
   },
   "outputs": [
    {
     "data": {
      "text/html": [
       "<div>\n",
       "<style>\n",
       "    .dataframe thead tr:only-child th {\n",
       "        text-align: right;\n",
       "    }\n",
       "\n",
       "    .dataframe thead th {\n",
       "        text-align: left;\n",
       "    }\n",
       "\n",
       "    .dataframe tbody tr th {\n",
       "        vertical-align: top;\n",
       "    }\n",
       "</style>\n",
       "<table border=\"1\" class=\"dataframe\">\n",
       "  <thead>\n",
       "    <tr style=\"text-align: right;\">\n",
       "      <th></th>\n",
       "      <th></th>\n",
       "      <th>infl_score</th>\n",
       "      <th>retweet_count</th>\n",
       "      <th>user_followers_count</th>\n",
       "    </tr>\n",
       "    <tr>\n",
       "      <th>favorite_count</th>\n",
       "      <th>user_screen_name</th>\n",
       "      <th></th>\n",
       "      <th></th>\n",
       "      <th></th>\n",
       "    </tr>\n",
       "  </thead>\n",
       "  <tbody>\n",
       "    <tr>\n",
       "      <th>13846</th>\n",
       "      <th>policia</th>\n",
       "      <td>35971</td>\n",
       "      <td>7375</td>\n",
       "      <td>2977466</td>\n",
       "    </tr>\n",
       "    <tr>\n",
       "      <th>11869</th>\n",
       "      <th>DaniMateoAgain</th>\n",
       "      <td>49459</td>\n",
       "      <td>12530</td>\n",
       "      <td>1298240</td>\n",
       "    </tr>\n",
       "    <tr>\n",
       "      <th>9993</th>\n",
       "      <th>VBaena</th>\n",
       "      <td>25779</td>\n",
       "      <td>5262</td>\n",
       "      <td>842</td>\n",
       "    </tr>\n",
       "    <tr>\n",
       "      <th>9411</th>\n",
       "      <th>KofiAnnan</th>\n",
       "      <td>35931</td>\n",
       "      <td>8840</td>\n",
       "      <td>196645</td>\n",
       "    </tr>\n",
       "    <tr>\n",
       "      <th>8785</th>\n",
       "      <th>MACamposP</th>\n",
       "      <td>43801</td>\n",
       "      <td>11672</td>\n",
       "      <td>6539</td>\n",
       "    </tr>\n",
       "    <tr>\n",
       "      <th>6073</th>\n",
       "      <th>JoanTarda</th>\n",
       "      <td>14185</td>\n",
       "      <td>2704</td>\n",
       "      <td>188481</td>\n",
       "    </tr>\n",
       "    <tr>\n",
       "      <th>5504</th>\n",
       "      <th>SitaJurado</th>\n",
       "      <td>41000</td>\n",
       "      <td>11832</td>\n",
       "      <td>1969</td>\n",
       "    </tr>\n",
       "    <tr>\n",
       "      <th>5054</th>\n",
       "      <th>Elaguijon_</th>\n",
       "      <td>18134</td>\n",
       "      <td>4360</td>\n",
       "      <td>43318</td>\n",
       "    </tr>\n",
       "    <tr>\n",
       "      <th>5037</th>\n",
       "      <th>depera1</th>\n",
       "      <td>23814</td>\n",
       "      <td>6259</td>\n",
       "      <td>6408</td>\n",
       "    </tr>\n",
       "    <tr>\n",
       "      <th>4070</th>\n",
       "      <th>SandraGolpeA3TV</th>\n",
       "      <td>7067</td>\n",
       "      <td>999</td>\n",
       "      <td>27468</td>\n",
       "    </tr>\n",
       "    <tr>\n",
       "      <th>4021</th>\n",
       "      <th>Albiol_XG</th>\n",
       "      <td>10579</td>\n",
       "      <td>2186</td>\n",
       "      <td>42660</td>\n",
       "    </tr>\n",
       "    <tr>\n",
       "      <th>3901</th>\n",
       "      <th>philmusical</th>\n",
       "      <td>11995</td>\n",
       "      <td>2698</td>\n",
       "      <td>156089</td>\n",
       "    </tr>\n",
       "    <tr>\n",
       "      <th>3306</th>\n",
       "      <th>Berlustinho</th>\n",
       "      <td>21624</td>\n",
       "      <td>6106</td>\n",
       "      <td>74843</td>\n",
       "    </tr>\n",
       "    <tr>\n",
       "      <th>3275</th>\n",
       "      <th>Kasparov63</th>\n",
       "      <td>8870</td>\n",
       "      <td>1865</td>\n",
       "      <td>382221</td>\n",
       "    </tr>\n",
       "    <tr>\n",
       "      <th>2977</th>\n",
       "      <th>salvadorcardus</th>\n",
       "      <td>13900</td>\n",
       "      <td>3641</td>\n",
       "      <td>53170</td>\n",
       "    </tr>\n",
       "    <tr>\n",
       "      <th>2824</th>\n",
       "      <th>LauraVilchezS</th>\n",
       "      <td>5713</td>\n",
       "      <td>963</td>\n",
       "      <td>2236</td>\n",
       "    </tr>\n",
       "    <tr>\n",
       "      <th>2594</th>\n",
       "      <th>jmangues</th>\n",
       "      <td>13052</td>\n",
       "      <td>3486</td>\n",
       "      <td>12616</td>\n",
       "    </tr>\n",
       "    <tr>\n",
       "      <th>2386</th>\n",
       "      <th>nmichavila</th>\n",
       "      <td>7981</td>\n",
       "      <td>1865</td>\n",
       "      <td>9620</td>\n",
       "    </tr>\n",
       "    <tr>\n",
       "      <th>2384</th>\n",
       "      <th>Berlustinho</th>\n",
       "      <td>13790</td>\n",
       "      <td>3802</td>\n",
       "      <td>74803</td>\n",
       "    </tr>\n",
       "  </tbody>\n",
       "</table>\n",
       "</div>"
      ],
      "text/plain": [
       "                                 infl_score  retweet_count  \\\n",
       "favorite_count user_screen_name                              \n",
       "13846          policia                35971           7375   \n",
       "11869          DaniMateoAgain         49459          12530   \n",
       "9993           VBaena                 25779           5262   \n",
       "9411           KofiAnnan              35931           8840   \n",
       "8785           MACamposP              43801          11672   \n",
       "6073           JoanTarda              14185           2704   \n",
       "5504           SitaJurado             41000          11832   \n",
       "5054           Elaguijon_             18134           4360   \n",
       "5037           depera1                23814           6259   \n",
       "4070           SandraGolpeA3TV         7067            999   \n",
       "4021           Albiol_XG              10579           2186   \n",
       "3901           philmusical            11995           2698   \n",
       "3306           Berlustinho            21624           6106   \n",
       "3275           Kasparov63              8870           1865   \n",
       "2977           salvadorcardus         13900           3641   \n",
       "2824           LauraVilchezS           5713            963   \n",
       "2594           jmangues               13052           3486   \n",
       "2386           nmichavila              7981           1865   \n",
       "2384           Berlustinho            13790           3802   \n",
       "\n",
       "                                 user_followers_count  \n",
       "favorite_count user_screen_name                        \n",
       "13846          policia                        2977466  \n",
       "11869          DaniMateoAgain                 1298240  \n",
       "9993           VBaena                             842  \n",
       "9411           KofiAnnan                       196645  \n",
       "8785           MACamposP                         6539  \n",
       "6073           JoanTarda                       188481  \n",
       "5504           SitaJurado                        1969  \n",
       "5054           Elaguijon_                       43318  \n",
       "5037           depera1                           6408  \n",
       "4070           SandraGolpeA3TV                  27468  \n",
       "4021           Albiol_XG                        42660  \n",
       "3901           philmusical                     156089  \n",
       "3306           Berlustinho                      74843  \n",
       "3275           Kasparov63                      382221  \n",
       "2977           salvadorcardus                   53170  \n",
       "2824           LauraVilchezS                     2236  \n",
       "2594           jmangues                         12616  \n",
       "2386           nmichavila                        9620  \n",
       "2384           Berlustinho                      74803  "
      ]
     },
     "execution_count": 15,
     "metadata": {},
     "output_type": "execute_result"
    }
   ],
   "source": [
    "# Favorites by person\n",
    "data[data['is_retweet'] == 0].groupby(['favorite_count', 'user_screen_name'])['infl_score','retweet_count','user_followers_count'].sum()[-1:-20:-1]"
   ]
  },
  {
   "cell_type": "markdown",
   "metadata": {
    "nbpresent": {
     "id": "fce6e930-620a-45e5-b38b-5830d0bf4119"
    }
   },
   "source": [
    "# 3. Persons with high social influence (over the time period)\n",
    "## Including retweets"
   ]
  },
  {
   "cell_type": "code",
   "execution_count": 16,
   "metadata": {
    "nbpresent": {
     "id": "57b1dd0e-0a20-4dcf-8512-ee90bac1fdb5"
    }
   },
   "outputs": [
    {
     "data": {
      "text/html": [
       "<div>\n",
       "<style>\n",
       "    .dataframe thead tr:only-child th {\n",
       "        text-align: right;\n",
       "    }\n",
       "\n",
       "    .dataframe thead th {\n",
       "        text-align: left;\n",
       "    }\n",
       "\n",
       "    .dataframe tbody tr th {\n",
       "        vertical-align: top;\n",
       "    }\n",
       "</style>\n",
       "<table border=\"1\" class=\"dataframe\">\n",
       "  <thead>\n",
       "    <tr style=\"text-align: right;\">\n",
       "      <th></th>\n",
       "      <th></th>\n",
       "      <th>favorite_count</th>\n",
       "      <th>retweet_count</th>\n",
       "      <th>user_followers_count</th>\n",
       "    </tr>\n",
       "    <tr>\n",
       "      <th>infl_score</th>\n",
       "      <th>user_screen_name</th>\n",
       "      <th></th>\n",
       "      <th></th>\n",
       "      <th></th>\n",
       "    </tr>\n",
       "  </thead>\n",
       "  <tbody>\n",
       "    <tr>\n",
       "      <th rowspan=\"2\" valign=\"top\">258633</th>\n",
       "      <th>ferran_quinto03</th>\n",
       "      <td>0</td>\n",
       "      <td>86211</td>\n",
       "      <td>61</td>\n",
       "    </tr>\n",
       "    <tr>\n",
       "      <th>Irune05</th>\n",
       "      <td>0</td>\n",
       "      <td>86211</td>\n",
       "      <td>9</td>\n",
       "    </tr>\n",
       "    <tr>\n",
       "      <th>258630</th>\n",
       "      <th>Eeliixx</th>\n",
       "      <td>0</td>\n",
       "      <td>86210</td>\n",
       "      <td>7</td>\n",
       "    </tr>\n",
       "    <tr>\n",
       "      <th rowspan=\"3\" valign=\"top\">258621</th>\n",
       "      <th>polroigr</th>\n",
       "      <td>0</td>\n",
       "      <td>86207</td>\n",
       "      <td>5</td>\n",
       "    </tr>\n",
       "    <tr>\n",
       "      <th>bakitamelbourne</th>\n",
       "      <td>0</td>\n",
       "      <td>86207</td>\n",
       "      <td>314</td>\n",
       "    </tr>\n",
       "    <tr>\n",
       "      <th>ahorasimeveo</th>\n",
       "      <td>0</td>\n",
       "      <td>86207</td>\n",
       "      <td>0</td>\n",
       "    </tr>\n",
       "    <tr>\n",
       "      <th>248151</th>\n",
       "      <th>diez_justicia</th>\n",
       "      <td>0</td>\n",
       "      <td>82717</td>\n",
       "      <td>9</td>\n",
       "    </tr>\n",
       "    <tr>\n",
       "      <th>235449</th>\n",
       "      <th>aleana_cataluna</th>\n",
       "      <td>0</td>\n",
       "      <td>78483</td>\n",
       "      <td>434</td>\n",
       "    </tr>\n",
       "    <tr>\n",
       "      <th>175395</th>\n",
       "      <th>thatERguy</th>\n",
       "      <td>0</td>\n",
       "      <td>58465</td>\n",
       "      <td>5508</td>\n",
       "    </tr>\n",
       "    <tr>\n",
       "      <th>170982</th>\n",
       "      <th>Catalonia_Free</th>\n",
       "      <td>0</td>\n",
       "      <td>56994</td>\n",
       "      <td>643</td>\n",
       "    </tr>\n",
       "    <tr>\n",
       "      <th rowspan=\"6\" valign=\"top\">162876</th>\n",
       "      <th>seeker_lover17</th>\n",
       "      <td>0</td>\n",
       "      <td>54292</td>\n",
       "      <td>127</td>\n",
       "    </tr>\n",
       "    <tr>\n",
       "      <th>oompa399</th>\n",
       "      <td>0</td>\n",
       "      <td>54292</td>\n",
       "      <td>308</td>\n",
       "    </tr>\n",
       "    <tr>\n",
       "      <th>mariamamacitaxx</th>\n",
       "      <td>0</td>\n",
       "      <td>54292</td>\n",
       "      <td>1056</td>\n",
       "    </tr>\n",
       "    <tr>\n",
       "      <th>erni_parra13</th>\n",
       "      <td>0</td>\n",
       "      <td>54292</td>\n",
       "      <td>185</td>\n",
       "    </tr>\n",
       "    <tr>\n",
       "      <th>YoursTrulyChino</th>\n",
       "      <td>0</td>\n",
       "      <td>54292</td>\n",
       "      <td>286</td>\n",
       "    </tr>\n",
       "    <tr>\n",
       "      <th>GalvanMario</th>\n",
       "      <td>0</td>\n",
       "      <td>54292</td>\n",
       "      <td>357</td>\n",
       "    </tr>\n",
       "    <tr>\n",
       "      <th rowspan=\"2\" valign=\"top\">162873</th>\n",
       "      <th>sergidolade</th>\n",
       "      <td>0</td>\n",
       "      <td>54291</td>\n",
       "      <td>1228</td>\n",
       "    </tr>\n",
       "    <tr>\n",
       "      <th>Wincherster2025</th>\n",
       "      <td>0</td>\n",
       "      <td>54291</td>\n",
       "      <td>1694</td>\n",
       "    </tr>\n",
       "    <tr>\n",
       "      <th>162870</th>\n",
       "      <th>poloniotroski</th>\n",
       "      <td>0</td>\n",
       "      <td>54290</td>\n",
       "      <td>1489</td>\n",
       "    </tr>\n",
       "  </tbody>\n",
       "</table>\n",
       "</div>"
      ],
      "text/plain": [
       "                             favorite_count  retweet_count  \\\n",
       "infl_score user_screen_name                                  \n",
       "258633     ferran_quinto03                0          86211   \n",
       "           Irune05                        0          86211   \n",
       "258630     Eeliixx                        0          86210   \n",
       "258621     polroigr                       0          86207   \n",
       "           bakitamelbourne                0          86207   \n",
       "           ahorasimeveo                   0          86207   \n",
       "248151     diez_justicia                  0          82717   \n",
       "235449     aleana_cataluna                0          78483   \n",
       "175395     thatERguy                      0          58465   \n",
       "170982     Catalonia_Free                 0          56994   \n",
       "162876     seeker_lover17                 0          54292   \n",
       "           oompa399                       0          54292   \n",
       "           mariamamacitaxx                0          54292   \n",
       "           erni_parra13                   0          54292   \n",
       "           YoursTrulyChino                0          54292   \n",
       "           GalvanMario                    0          54292   \n",
       "162873     sergidolade                    0          54291   \n",
       "           Wincherster2025                0          54291   \n",
       "162870     poloniotroski                  0          54290   \n",
       "\n",
       "                             user_followers_count  \n",
       "infl_score user_screen_name                        \n",
       "258633     ferran_quinto03                     61  \n",
       "           Irune05                              9  \n",
       "258630     Eeliixx                              7  \n",
       "258621     polroigr                             5  \n",
       "           bakitamelbourne                    314  \n",
       "           ahorasimeveo                         0  \n",
       "248151     diez_justicia                        9  \n",
       "235449     aleana_cataluna                    434  \n",
       "175395     thatERguy                         5508  \n",
       "170982     Catalonia_Free                     643  \n",
       "162876     seeker_lover17                     127  \n",
       "           oompa399                           308  \n",
       "           mariamamacitaxx                   1056  \n",
       "           erni_parra13                       185  \n",
       "           YoursTrulyChino                    286  \n",
       "           GalvanMario                        357  \n",
       "162873     sergidolade                       1228  \n",
       "           Wincherster2025                   1694  \n",
       "162870     poloniotroski                     1489  "
      ]
     },
     "execution_count": 16,
     "metadata": {},
     "output_type": "execute_result"
    }
   ],
   "source": [
    "# Influence by person\n",
    "data.groupby(['infl_score', 'user_screen_name'])['favorite_count','retweet_count','user_followers_count'].sum()[-1:-20:-1]"
   ]
  },
  {
   "cell_type": "markdown",
   "metadata": {
    "nbpresent": {
     "id": "42d973b8-2d71-4052-a0ce-e6f761305705"
    }
   },
   "source": [
    "## Excluding retweets"
   ]
  },
  {
   "cell_type": "code",
   "execution_count": 17,
   "metadata": {
    "nbpresent": {
     "id": "69db293d-6e3a-47d4-825c-99e50b87fc2b"
    }
   },
   "outputs": [
    {
     "data": {
      "text/html": [
       "<div>\n",
       "<style>\n",
       "    .dataframe thead tr:only-child th {\n",
       "        text-align: right;\n",
       "    }\n",
       "\n",
       "    .dataframe thead th {\n",
       "        text-align: left;\n",
       "    }\n",
       "\n",
       "    .dataframe tbody tr th {\n",
       "        vertical-align: top;\n",
       "    }\n",
       "</style>\n",
       "<table border=\"1\" class=\"dataframe\">\n",
       "  <thead>\n",
       "    <tr style=\"text-align: right;\">\n",
       "      <th></th>\n",
       "      <th></th>\n",
       "      <th>favorite_count</th>\n",
       "      <th>retweet_count</th>\n",
       "      <th>user_followers_count</th>\n",
       "    </tr>\n",
       "    <tr>\n",
       "      <th>infl_score</th>\n",
       "      <th>user_screen_name</th>\n",
       "      <th></th>\n",
       "      <th></th>\n",
       "      <th></th>\n",
       "    </tr>\n",
       "  </thead>\n",
       "  <tbody>\n",
       "    <tr>\n",
       "      <th>49459</th>\n",
       "      <th>DaniMateoAgain</th>\n",
       "      <td>11869</td>\n",
       "      <td>12530</td>\n",
       "      <td>1298240</td>\n",
       "    </tr>\n",
       "    <tr>\n",
       "      <th>43801</th>\n",
       "      <th>MACamposP</th>\n",
       "      <td>8785</td>\n",
       "      <td>11672</td>\n",
       "      <td>6539</td>\n",
       "    </tr>\n",
       "    <tr>\n",
       "      <th>41000</th>\n",
       "      <th>SitaJurado</th>\n",
       "      <td>5504</td>\n",
       "      <td>11832</td>\n",
       "      <td>1969</td>\n",
       "    </tr>\n",
       "    <tr>\n",
       "      <th>35971</th>\n",
       "      <th>policia</th>\n",
       "      <td>13846</td>\n",
       "      <td>7375</td>\n",
       "      <td>2977466</td>\n",
       "    </tr>\n",
       "    <tr>\n",
       "      <th>35931</th>\n",
       "      <th>KofiAnnan</th>\n",
       "      <td>9411</td>\n",
       "      <td>8840</td>\n",
       "      <td>196645</td>\n",
       "    </tr>\n",
       "    <tr>\n",
       "      <th>25779</th>\n",
       "      <th>VBaena</th>\n",
       "      <td>9993</td>\n",
       "      <td>5262</td>\n",
       "      <td>842</td>\n",
       "    </tr>\n",
       "    <tr>\n",
       "      <th>23908</th>\n",
       "      <th>SPAINonymous</th>\n",
       "      <td>2116</td>\n",
       "      <td>7264</td>\n",
       "      <td>5386</td>\n",
       "    </tr>\n",
       "    <tr>\n",
       "      <th>23814</th>\n",
       "      <th>depera1</th>\n",
       "      <td>5037</td>\n",
       "      <td>6259</td>\n",
       "      <td>6408</td>\n",
       "    </tr>\n",
       "    <tr>\n",
       "      <th>22611</th>\n",
       "      <th>Ruptly</th>\n",
       "      <td>1971</td>\n",
       "      <td>6880</td>\n",
       "      <td>49574</td>\n",
       "    </tr>\n",
       "    <tr>\n",
       "      <th>21624</th>\n",
       "      <th>Berlustinho</th>\n",
       "      <td>3306</td>\n",
       "      <td>6106</td>\n",
       "      <td>74843</td>\n",
       "    </tr>\n",
       "    <tr>\n",
       "      <th>20575</th>\n",
       "      <th>directe</th>\n",
       "      <td>1966</td>\n",
       "      <td>6203</td>\n",
       "      <td>40345</td>\n",
       "    </tr>\n",
       "    <tr>\n",
       "      <th>19900</th>\n",
       "      <th>Ruptly</th>\n",
       "      <td>1744</td>\n",
       "      <td>6052</td>\n",
       "      <td>49574</td>\n",
       "    </tr>\n",
       "    <tr>\n",
       "      <th>18134</th>\n",
       "      <th>Elaguijon_</th>\n",
       "      <td>5054</td>\n",
       "      <td>4360</td>\n",
       "      <td>43318</td>\n",
       "    </tr>\n",
       "    <tr>\n",
       "      <th>14656</th>\n",
       "      <th>DiegoPodemos</th>\n",
       "      <td>2179</td>\n",
       "      <td>4159</td>\n",
       "      <td>2906</td>\n",
       "    </tr>\n",
       "    <tr>\n",
       "      <th>14609</th>\n",
       "      <th>Independent</th>\n",
       "      <td>1334</td>\n",
       "      <td>4425</td>\n",
       "      <td>2384329</td>\n",
       "    </tr>\n",
       "    <tr>\n",
       "      <th>14185</th>\n",
       "      <th>JoanTarda</th>\n",
       "      <td>6073</td>\n",
       "      <td>2704</td>\n",
       "      <td>188481</td>\n",
       "    </tr>\n",
       "    <tr>\n",
       "      <th>13900</th>\n",
       "      <th>salvadorcardus</th>\n",
       "      <td>2977</td>\n",
       "      <td>3641</td>\n",
       "      <td>53170</td>\n",
       "    </tr>\n",
       "    <tr>\n",
       "      <th>13790</th>\n",
       "      <th>Berlustinho</th>\n",
       "      <td>2384</td>\n",
       "      <td>3802</td>\n",
       "      <td>74803</td>\n",
       "    </tr>\n",
       "    <tr>\n",
       "      <th>13052</th>\n",
       "      <th>jmangues</th>\n",
       "      <td>2594</td>\n",
       "      <td>3486</td>\n",
       "      <td>12616</td>\n",
       "    </tr>\n",
       "  </tbody>\n",
       "</table>\n",
       "</div>"
      ],
      "text/plain": [
       "                             favorite_count  retweet_count  \\\n",
       "infl_score user_screen_name                                  \n",
       "49459      DaniMateoAgain             11869          12530   \n",
       "43801      MACamposP                   8785          11672   \n",
       "41000      SitaJurado                  5504          11832   \n",
       "35971      policia                    13846           7375   \n",
       "35931      KofiAnnan                   9411           8840   \n",
       "25779      VBaena                      9993           5262   \n",
       "23908      SPAINonymous                2116           7264   \n",
       "23814      depera1                     5037           6259   \n",
       "22611      Ruptly                      1971           6880   \n",
       "21624      Berlustinho                 3306           6106   \n",
       "20575      directe                     1966           6203   \n",
       "19900      Ruptly                      1744           6052   \n",
       "18134      Elaguijon_                  5054           4360   \n",
       "14656      DiegoPodemos                2179           4159   \n",
       "14609      Independent                 1334           4425   \n",
       "14185      JoanTarda                   6073           2704   \n",
       "13900      salvadorcardus              2977           3641   \n",
       "13790      Berlustinho                 2384           3802   \n",
       "13052      jmangues                    2594           3486   \n",
       "\n",
       "                             user_followers_count  \n",
       "infl_score user_screen_name                        \n",
       "49459      DaniMateoAgain                 1298240  \n",
       "43801      MACamposP                         6539  \n",
       "41000      SitaJurado                        1969  \n",
       "35971      policia                        2977466  \n",
       "35931      KofiAnnan                       196645  \n",
       "25779      VBaena                             842  \n",
       "23908      SPAINonymous                      5386  \n",
       "23814      depera1                           6408  \n",
       "22611      Ruptly                           49574  \n",
       "21624      Berlustinho                      74843  \n",
       "20575      directe                          40345  \n",
       "19900      Ruptly                           49574  \n",
       "18134      Elaguijon_                       43318  \n",
       "14656      DiegoPodemos                      2906  \n",
       "14609      Independent                    2384329  \n",
       "14185      JoanTarda                       188481  \n",
       "13900      salvadorcardus                   53170  \n",
       "13790      Berlustinho                      74803  \n",
       "13052      jmangues                         12616  "
      ]
     },
     "execution_count": 17,
     "metadata": {},
     "output_type": "execute_result"
    }
   ],
   "source": [
    "data[data['is_retweet'] == 0].groupby(['infl_score', 'user_screen_name'])['favorite_count','retweet_count','user_followers_count'].sum()[-1:-20:-1]"
   ]
  },
  {
   "cell_type": "markdown",
   "metadata": {
    "nbpresent": {
     "id": "8c2a735d-0431-45c3-a928-f1b01ccd4288"
    }
   },
   "source": [
    "# 4. Most frequent tweeters"
   ]
  },
  {
   "cell_type": "markdown",
   "metadata": {
    "nbpresent": {
     "id": "a9241438-fbf8-4216-a71f-bff25b00eb8a"
    }
   },
   "source": [
    "## Including retweets"
   ]
  },
  {
   "cell_type": "code",
   "execution_count": 27,
   "metadata": {
    "nbpresent": {
     "id": "3ecbe78f-cc47-4f09-8f7e-0120434a51e2"
    }
   },
   "outputs": [],
   "source": [
    "counted_inc = collections.Counter(data['user_screen_name'])\n",
    "tweet_freq_inc = sorted(counted_inc.items(), key=operator.itemgetter(1))"
   ]
  },
  {
   "cell_type": "code",
   "execution_count": 28,
   "metadata": {
    "nbpresent": {
     "id": "9e58b20d-fca0-4c02-9454-84b2392d4e1d"
    }
   },
   "outputs": [
    {
     "data": {
      "text/plain": [
       "[('CatalanRobot', 276),\n",
       " ('Rojaconarte', 188),\n",
       " ('REscolaMarco', 181),\n",
       " ('SCC_Cerdanyola', 179),\n",
       " ('Belit88', 169),\n",
       " ('Anday26209982', 157),\n",
       " ('LolaLop22360512', 147),\n",
       " ('JuntsPelSi_Cat', 145),\n",
       " ('nu_damian', 140),\n",
       " ('kinbota', 135),\n",
       " ('huguet_gabriel', 129),\n",
       " ('Diequi', 125),\n",
       " ('Wittgenstein_jm', 124),\n",
       " ('asiandafrica', 123),\n",
       " ('pallaron12', 121),\n",
       " ('AngelesBN3', 120),\n",
       " ('Mazius069', 117),\n",
       " ('marisaparrilla', 116),\n",
       " ('aneshali', 116)]"
      ]
     },
     "execution_count": 28,
     "metadata": {},
     "output_type": "execute_result"
    }
   ],
   "source": [
    "tweet_freq_inc[:-20:-1]"
   ]
  },
  {
   "cell_type": "markdown",
   "metadata": {
    "nbpresent": {
     "id": "a7f0b450-4172-4c56-8241-5d180c7507eb"
    }
   },
   "source": [
    "## Excluding retweets"
   ]
  },
  {
   "cell_type": "code",
   "execution_count": 29,
   "metadata": {
    "nbpresent": {
     "id": "b0c8ca5f-bde4-48b8-9dc3-bb4bc006a729"
    }
   },
   "outputs": [],
   "source": [
    "counted_exc = collections.Counter(data['user_screen_name'][data['is_retweet'] == 0])\n",
    "tweet_freq_exc = sorted(counted_exc.items(), key=operator.itemgetter(1))"
   ]
  },
  {
   "cell_type": "code",
   "execution_count": 30,
   "metadata": {
    "nbpresent": {
     "id": "361f7f15-7b61-465c-9eb4-fb637ed04da2"
    }
   },
   "outputs": [
    {
     "data": {
      "text/plain": [
       "[('lextresabogados', 76),\n",
       " ('CaraotaDigital', 66),\n",
       " ('smujal', 58),\n",
       " ('JuntsPelSi_Cat', 56),\n",
       " ('falcarazfer', 47),\n",
       " ('notiven', 46),\n",
       " ('Estrellas_Siete', 45),\n",
       " ('bitMomentum', 45),\n",
       " ('larosadereus', 44),\n",
       " ('Nuria_amb_seny', 43),\n",
       " ('Sanfermin00', 43),\n",
       " ('oscargeek', 41),\n",
       " ('rogerangela', 38),\n",
       " ('fractaltrend', 38),\n",
       " ('Mela_Lombardi', 38),\n",
       " ('ElNacionalWeb', 37),\n",
       " ('Marta_catalonia', 37),\n",
       " ('maximors63', 36),\n",
       " ('BlaancaNiieves', 35)]"
      ]
     },
     "execution_count": 30,
     "metadata": {},
     "output_type": "execute_result"
    }
   ],
   "source": [
    "tweet_freq_exc[:-20:-1]"
   ]
  },
  {
   "cell_type": "markdown",
   "metadata": {
    "nbpresent": {
     "id": "e34ceec0-7148-482d-b7f9-8fbfec0ecf63"
    }
   },
   "source": [
    "## Top50 tweeters with no original tweets"
   ]
  },
  {
   "cell_type": "code",
   "execution_count": 31,
   "metadata": {
    "nbpresent": {
     "id": "c27e0df2-640a-4564-812b-095c60708cec"
    }
   },
   "outputs": [],
   "source": [
    "top50 = set([tupl[0] for tupl in tweet_freq_inc[:-51:-1]])\n",
    "top50_no_orig = top50 - set([tupl[0] for tupl in tweet_freq_exc])"
   ]
  },
  {
   "cell_type": "code",
   "execution_count": 32,
   "metadata": {
    "nbpresent": {
     "id": "659ba240-a9c8-4e55-86e4-e1a40930bc39"
    }
   },
   "outputs": [
    {
     "data": {
      "text/plain": [
       "{'Anday26209982',\n",
       " 'AndreuViu',\n",
       " 'AngelesBN3',\n",
       " 'CatalanRobot',\n",
       " 'Fl1chy',\n",
       " 'LolaLop22360512',\n",
       " 'LolaRicoMoral1',\n",
       " 'MarcoDaCostaFX',\n",
       " 'Mazius069',\n",
       " 'SBachs',\n",
       " 'carmelomayorv',\n",
       " 'cfrd1909cat',\n",
       " 'cienfuegos66',\n",
       " 'dle9',\n",
       " 'huguet_gabriel',\n",
       " 'jasavalena',\n",
       " 'josezpt',\n",
       " 'kamipony',\n",
       " 'lolibejarano',\n",
       " 'nu_damian',\n",
       " 'pallaron12',\n",
       " 'quela68',\n",
       " 'roserous_rosa',\n",
       " 'vidaconpasion8'}"
      ]
     },
     "execution_count": 32,
     "metadata": {},
     "output_type": "execute_result"
    }
   ],
   "source": [
    "top50_no_orig"
   ]
  },
  {
   "cell_type": "markdown",
   "metadata": {
    "nbpresent": {
     "id": "4c26e7a3-49c1-458b-9039-8665f657365e"
    }
   },
   "source": [
    "### Likely bots?\n",
    "Let's see how much these users hold influence in the social media"
   ]
  },
  {
   "cell_type": "code",
   "execution_count": 33,
   "metadata": {
    "collapsed": true,
    "nbpresent": {
     "id": "a586efb8-38a9-4280-9ecb-4be8f651881e"
    }
   },
   "outputs": [],
   "source": [
    "data_top_bool = [True if str(row) in top50_no_orig else False for row in data['user_screen_name']]"
   ]
  },
  {
   "cell_type": "code",
   "execution_count": 34,
   "metadata": {
    "collapsed": true,
    "nbpresent": {
     "id": "b1c2db54-415f-4de9-8cee-5a2b90cc92ee"
    }
   },
   "outputs": [],
   "source": [
    "data_in_top = data[data_top_bool]"
   ]
  },
  {
   "cell_type": "code",
   "execution_count": 35,
   "metadata": {
    "nbpresent": {
     "id": "e0c62c1f-f1ce-4478-8833-83479302346f"
    }
   },
   "outputs": [
    {
     "data": {
      "text/html": [
       "<div>\n",
       "<style>\n",
       "    .dataframe thead tr:only-child th {\n",
       "        text-align: right;\n",
       "    }\n",
       "\n",
       "    .dataframe thead th {\n",
       "        text-align: left;\n",
       "    }\n",
       "\n",
       "    .dataframe tbody tr th {\n",
       "        vertical-align: top;\n",
       "    }\n",
       "</style>\n",
       "<table border=\"1\" class=\"dataframe\">\n",
       "  <thead>\n",
       "    <tr style=\"text-align: right;\">\n",
       "      <th></th>\n",
       "      <th></th>\n",
       "      <th>favorite_count</th>\n",
       "      <th>retweet_count</th>\n",
       "      <th>user_followers_count</th>\n",
       "    </tr>\n",
       "    <tr>\n",
       "      <th>retweet_count</th>\n",
       "      <th>user_id</th>\n",
       "      <th></th>\n",
       "      <th></th>\n",
       "      <th></th>\n",
       "    </tr>\n",
       "  </thead>\n",
       "  <tbody>\n",
       "    <tr>\n",
       "      <th rowspan=\"2\" valign=\"top\">29631</th>\n",
       "      <th>887705657440444416</th>\n",
       "      <td>0</td>\n",
       "      <td>29631</td>\n",
       "      <td>161</td>\n",
       "    </tr>\n",
       "    <tr>\n",
       "      <th>574681319</th>\n",
       "      <td>0</td>\n",
       "      <td>29631</td>\n",
       "      <td>1498</td>\n",
       "    </tr>\n",
       "    <tr>\n",
       "      <th>29630</th>\n",
       "      <th>3256639401</th>\n",
       "      <td>0</td>\n",
       "      <td>29630</td>\n",
       "      <td>433</td>\n",
       "    </tr>\n",
       "    <tr>\n",
       "      <th>18162</th>\n",
       "      <th>3256639401</th>\n",
       "      <td>0</td>\n",
       "      <td>18162</td>\n",
       "      <td>433</td>\n",
       "    </tr>\n",
       "    <tr>\n",
       "      <th>12531</th>\n",
       "      <th>887705657440444416</th>\n",
       "      <td>0</td>\n",
       "      <td>12531</td>\n",
       "      <td>161</td>\n",
       "    </tr>\n",
       "    <tr>\n",
       "      <th rowspan=\"2\" valign=\"top\">12530</th>\n",
       "      <th>772670580562784256</th>\n",
       "      <td>0</td>\n",
       "      <td>12530</td>\n",
       "      <td>401</td>\n",
       "    </tr>\n",
       "    <tr>\n",
       "      <th>3256639401</th>\n",
       "      <td>0</td>\n",
       "      <td>12530</td>\n",
       "      <td>433</td>\n",
       "    </tr>\n",
       "    <tr>\n",
       "      <th rowspan=\"3\" valign=\"top\">11832</th>\n",
       "      <th>887705657440444416</th>\n",
       "      <td>0</td>\n",
       "      <td>11832</td>\n",
       "      <td>161</td>\n",
       "    </tr>\n",
       "    <tr>\n",
       "      <th>772670580562784256</th>\n",
       "      <td>0</td>\n",
       "      <td>11832</td>\n",
       "      <td>401</td>\n",
       "    </tr>\n",
       "    <tr>\n",
       "      <th>574681319</th>\n",
       "      <td>0</td>\n",
       "      <td>11832</td>\n",
       "      <td>1497</td>\n",
       "    </tr>\n",
       "    <tr>\n",
       "      <th>11354</th>\n",
       "      <th>498913971</th>\n",
       "      <td>0</td>\n",
       "      <td>11354</td>\n",
       "      <td>350</td>\n",
       "    </tr>\n",
       "    <tr>\n",
       "      <th>10811</th>\n",
       "      <th>905779194088579072</th>\n",
       "      <td>0</td>\n",
       "      <td>10811</td>\n",
       "      <td>332</td>\n",
       "    </tr>\n",
       "    <tr>\n",
       "      <th>8840</th>\n",
       "      <th>905779194088579072</th>\n",
       "      <td>0</td>\n",
       "      <td>8840</td>\n",
       "      <td>332</td>\n",
       "    </tr>\n",
       "    <tr>\n",
       "      <th>8804</th>\n",
       "      <th>905779194088579072</th>\n",
       "      <td>0</td>\n",
       "      <td>8804</td>\n",
       "      <td>333</td>\n",
       "    </tr>\n",
       "    <tr>\n",
       "      <th>8258</th>\n",
       "      <th>574681319</th>\n",
       "      <td>0</td>\n",
       "      <td>8258</td>\n",
       "      <td>1497</td>\n",
       "    </tr>\n",
       "    <tr>\n",
       "      <th rowspan=\"3\" valign=\"top\">8059</th>\n",
       "      <th>772670580562784256</th>\n",
       "      <td>0</td>\n",
       "      <td>8059</td>\n",
       "      <td>401</td>\n",
       "    </tr>\n",
       "    <tr>\n",
       "      <th>3097325543</th>\n",
       "      <td>0</td>\n",
       "      <td>8059</td>\n",
       "      <td>452</td>\n",
       "    </tr>\n",
       "    <tr>\n",
       "      <th>574681319</th>\n",
       "      <td>0</td>\n",
       "      <td>8059</td>\n",
       "      <td>1497</td>\n",
       "    </tr>\n",
       "    <tr>\n",
       "      <th>8044</th>\n",
       "      <th>887705657440444416</th>\n",
       "      <td>0</td>\n",
       "      <td>8044</td>\n",
       "      <td>161</td>\n",
       "    </tr>\n",
       "    <tr>\n",
       "      <th>7644</th>\n",
       "      <th>887705657440444416</th>\n",
       "      <td>0</td>\n",
       "      <td>7644</td>\n",
       "      <td>161</td>\n",
       "    </tr>\n",
       "    <tr>\n",
       "      <th rowspan=\"3\" valign=\"top\">7375</th>\n",
       "      <th>906625161675362304</th>\n",
       "      <td>0</td>\n",
       "      <td>7375</td>\n",
       "      <td>129</td>\n",
       "    </tr>\n",
       "    <tr>\n",
       "      <th>796316345658933248</th>\n",
       "      <td>0</td>\n",
       "      <td>7375</td>\n",
       "      <td>416</td>\n",
       "    </tr>\n",
       "    <tr>\n",
       "      <th>3097325543</th>\n",
       "      <td>0</td>\n",
       "      <td>7375</td>\n",
       "      <td>451</td>\n",
       "    </tr>\n",
       "  </tbody>\n",
       "</table>\n",
       "</div>"
      ],
      "text/plain": [
       "                                  favorite_count  retweet_count  \\\n",
       "retweet_count user_id                                             \n",
       "29631         887705657440444416               0          29631   \n",
       "              574681319                        0          29631   \n",
       "29630         3256639401                       0          29630   \n",
       "18162         3256639401                       0          18162   \n",
       "12531         887705657440444416               0          12531   \n",
       "12530         772670580562784256               0          12530   \n",
       "              3256639401                       0          12530   \n",
       "11832         887705657440444416               0          11832   \n",
       "              772670580562784256               0          11832   \n",
       "              574681319                        0          11832   \n",
       "11354         498913971                        0          11354   \n",
       "10811         905779194088579072               0          10811   \n",
       "8840          905779194088579072               0           8840   \n",
       "8804          905779194088579072               0           8804   \n",
       "8258          574681319                        0           8258   \n",
       "8059          772670580562784256               0           8059   \n",
       "              3097325543                       0           8059   \n",
       "              574681319                        0           8059   \n",
       "8044          887705657440444416               0           8044   \n",
       "7644          887705657440444416               0           7644   \n",
       "7375          906625161675362304               0           7375   \n",
       "              796316345658933248               0           7375   \n",
       "              3097325543                       0           7375   \n",
       "\n",
       "                                  user_followers_count  \n",
       "retweet_count user_id                                   \n",
       "29631         887705657440444416                   161  \n",
       "              574681319                           1498  \n",
       "29630         3256639401                           433  \n",
       "18162         3256639401                           433  \n",
       "12531         887705657440444416                   161  \n",
       "12530         772670580562784256                   401  \n",
       "              3256639401                           433  \n",
       "11832         887705657440444416                   161  \n",
       "              772670580562784256                   401  \n",
       "              574681319                           1497  \n",
       "11354         498913971                            350  \n",
       "10811         905779194088579072                   332  \n",
       "8840          905779194088579072                   332  \n",
       "8804          905779194088579072                   333  \n",
       "8258          574681319                           1497  \n",
       "8059          772670580562784256                   401  \n",
       "              3097325543                           452  \n",
       "              574681319                           1497  \n",
       "8044          887705657440444416                   161  \n",
       "7644          887705657440444416                   161  \n",
       "7375          906625161675362304                   129  \n",
       "              796316345658933248                   416  \n",
       "              3097325543                           451  "
      ]
     },
     "execution_count": 35,
     "metadata": {},
     "output_type": "execute_result"
    }
   ],
   "source": [
    "data_in_top.groupby(['retweet_count', 'user_id'])['favorite_count','retweet_count','user_followers_count'].sum()[:-24:-1]"
   ]
  },
  {
   "cell_type": "markdown",
   "metadata": {
    "nbpresent": {
     "id": "fafb5f4a-44b6-4dc9-8a53-c2c57494defc"
    }
   },
   "source": [
    "# 5. Averaged Social Influence per tweet"
   ]
  },
  {
   "cell_type": "markdown",
   "metadata": {
    "nbpresent": {
     "id": "e9927dc0-e260-4ce7-8e1a-57f6a01c3f18"
    }
   },
   "source": [
    "# Hashtags"
   ]
  },
  {
   "cell_type": "code",
   "execution_count": 37,
   "metadata": {
    "collapsed": true,
    "nbpresent": {
     "id": "c8f2444d-5620-46f0-927e-e567a88df797"
    }
   },
   "outputs": [],
   "source": [
    "all_htags = [htag for row in list(data['hashtags']) for htag in row]\n",
    "all_htags = list(set(all_htags)) #Select unique ones"
   ]
  },
  {
   "cell_type": "code",
   "execution_count": 38,
   "metadata": {
    "nbpresent": {
     "id": "ba8b935d-9313-4e7f-a432-85549100e541"
    }
   },
   "outputs": [
    {
     "data": {
      "text/plain": [
       "6789"
      ]
     },
     "execution_count": 38,
     "metadata": {},
     "output_type": "execute_result"
    }
   ],
   "source": [
    "len(all_htags) # Amount of all unique hashtags"
   ]
  },
  {
   "cell_type": "markdown",
   "metadata": {
    "nbpresent": {
     "id": "8e3d8d34-e934-4623-85ea-df3c213923c0"
    }
   },
   "source": [
    "# Most frequent hashtags"
   ]
  },
  {
   "cell_type": "markdown",
   "metadata": {
    "nbpresent": {
     "id": "b7c88b95-fda0-413a-90c7-43950f1c6ff1"
    }
   },
   "source": [
    "## Including retweets"
   ]
  },
  {
   "cell_type": "code",
   "execution_count": 39,
   "metadata": {
    "collapsed": true,
    "nbpresent": {
     "id": "2e113e67-e6e4-4859-9ce2-8e49774a3b77"
    }
   },
   "outputs": [],
   "source": [
    "counted = collections.Counter([htag for row in list(data['hashtags']) for htag in row])"
   ]
  },
  {
   "cell_type": "code",
   "execution_count": 40,
   "metadata": {
    "collapsed": true,
    "nbpresent": {
     "id": "0eadd8b0-517f-4d7a-86c6-8380371167cc"
    }
   },
   "outputs": [],
   "source": [
    "sorted_hashtags_freq = sorted(counted.items(), key=operator.itemgetter(1))"
   ]
  },
  {
   "cell_type": "code",
   "execution_count": 41,
   "metadata": {
    "nbpresent": {
     "id": "7f10b88c-6680-4a32-a283-eb4a9f57be04"
    },
    "scrolled": false
   },
   "outputs": [
    {
     "data": {
      "text/plain": [
       "[('recuperemelseny', 158901),\n",
       " ('cataluña', 21163),\n",
       " ('8oct', 19891),\n",
       " ('sanlúcar', 17175),\n",
       " ('barcelona', 14493),\n",
       " ('8octbcnespanola', 8812),\n",
       " ('catalonia', 8322),\n",
       " ('recuperem', 4911),\n",
       " ('parlemhablemos', 4554),\n",
       " ('spain', 3828),\n",
       " ('catalanreferendum', 3540),\n",
       " ('españa', 2315),\n",
       " ('objetivocataluña', 2034),\n",
       " ('envivo', 1850),\n",
       " ('catalunya', 1506),\n",
       " ('vivaespaña', 1412),\n",
       " ('8octbcnespañola', 1189),\n",
       " ('alertaultra', 1171),\n",
       " ('cataluñaallímitea3', 1164),\n",
       " ('viscacatalunya', 1127),\n",
       " ('estamosporti', 1078),\n",
       " ('estamosportodos', 1050),\n",
       " ('1o', 1038),\n",
       " ('10odeclaració', 1013),\n",
       " ('ligadelajusticia', 960),\n",
       " ('felizdomingo', 895),\n",
       " ('mayoriasilenciosa', 753),\n",
       " ('urquinaona', 753),\n",
       " ('parlem', 620)]"
      ]
     },
     "execution_count": 41,
     "metadata": {},
     "output_type": "execute_result"
    }
   ],
   "source": [
    "sorted_hashtags_freq[:-30:-1]"
   ]
  },
  {
   "cell_type": "markdown",
   "metadata": {
    "nbpresent": {
     "id": "af52780b-ff8e-4308-9afe-eb34caa24a33"
    }
   },
   "source": [
    "## Excluding retweets"
   ]
  },
  {
   "cell_type": "code",
   "execution_count": 42,
   "metadata": {
    "collapsed": true,
    "nbpresent": {
     "id": "749ba741-8d05-451f-b6e1-71751749d85e"
    },
    "scrolled": false
   },
   "outputs": [],
   "source": [
    "data_wo_rt = data[data['is_retweet'] == 0]['hashtags']\n",
    "counted = collections.Counter([htag for row in list(data_wo_rt) for htag in row])\n",
    "sorted_hashtags_freq = sorted(counted.items(), key=operator.itemgetter(1))"
   ]
  },
  {
   "cell_type": "code",
   "execution_count": 43,
   "metadata": {
    "nbpresent": {
     "id": "76cecf45-186a-4779-a1c9-0ca9943f0e3e"
    }
   },
   "outputs": [
    {
     "data": {
      "text/plain": [
       "[('recuperemelseny', 9342),\n",
       " ('catalonia', 1190),\n",
       " ('8oct', 790),\n",
       " ('8octbcnespanola', 781),\n",
       " ('cataluña', 762),\n",
       " ('objetivocataluña', 756),\n",
       " ('barcelona', 574),\n",
       " ('catalanreferendum', 562),\n",
       " ('parlemhablemos', 516),\n",
       " ('spain', 364),\n",
       " ('españa', 339),\n",
       " ('catalunya', 319),\n",
       " ('justiceleague', 235),\n",
       " ('felizdomingo', 219),\n",
       " ('diesclautv3', 178),\n",
       " ('democracia', 177),\n",
       " ('rajoy', 141),\n",
       " ('puigdemont', 129),\n",
       " ('news', 119),\n",
       " ('mayoriasilenciosa', 112),\n",
       " ('1oct', 100),\n",
       " ('independence', 97),\n",
       " ('dui', 96),\n",
       " ('noestaissolos', 96),\n",
       " ('الجمهور_السعودي_يساند_مصر', 95),\n",
       " ('independencia', 95),\n",
       " ('parlem', 95),\n",
       " ('cataluna', 90),\n",
       " ('missyouonedirection', 87),\n",
       " ('15oct', 86),\n",
       " ('referendumcat', 85),\n",
       " ('independència', 74),\n",
       " ('mesaza', 72),\n",
       " ('justicia', 69),\n",
       " ('cataluñaallímitea3', 68),\n",
       " ('8octbcnespañola', 67),\n",
       " ('noticias', 63),\n",
       " ('catalan', 63),\n",
       " ('recuperarelseny', 61),\n",
       " ('borrell', 60),\n",
       " ('8octubre', 60),\n",
       " ('internacional', 60),\n",
       " ('vivaespaña', 59),\n",
       " ('seny', 58),\n",
       " ('venezuela', 56),\n",
       " ('vivalavida39', 55),\n",
       " ('catalunaallimitea3', 54),\n",
       " ('mundo', 53),\n",
       " ('siseunieranvargasllerasyuribe', 51)]"
      ]
     },
     "execution_count": 43,
     "metadata": {},
     "output_type": "execute_result"
    }
   ],
   "source": [
    "sorted_hashtags_freq[:-50:-1] "
   ]
  },
  {
   "cell_type": "markdown",
   "metadata": {
    "nbpresent": {
     "id": "3ee28122-a48d-4ccc-be08-a9b7a9c9625c"
    }
   },
   "source": [
    "# Picking hashtags for further analysis\n",
    "Maybe we could try and categorize these to __pro, against and neutral__ categories for further analysis?\n",
    "\n",
    "Here's a quick hand-picked list of what seems relevant:"
   ]
  },
  {
   "cell_type": "code",
   "execution_count": 44,
   "metadata": {
    "collapsed": true,
    "nbpresent": {
     "id": "96f3ad32-88c6-46c8-a9e7-65b1cb4daf63"
    }
   },
   "outputs": [],
   "source": [
    "rel_htags = ['catalonia','8oct','barcelona','8octbcnespanola','cataluña','catalunya',\n",
    "             'democracia','recuperemelseny','objetivocataluña','recuperem','parlemhablemos',\n",
    "             'catalanreferendum','puigdemont','rajoy','independence','parlem','independencia'\n",
    "             'catalan','recuperarelseny','referendumcat','independència','justicia']"
   ]
  }
 ],
 "metadata": {
  "kernelspec": {
   "display_name": "Python [default]",
   "language": "python",
   "name": "python3"
  },
  "language_info": {
   "codemirror_mode": {
    "name": "ipython",
    "version": 3
   },
   "file_extension": ".py",
   "mimetype": "text/x-python",
   "name": "python",
   "nbconvert_exporter": "python",
   "pygments_lexer": "ipython3",
   "version": "3.6.2"
  },
  "nbpresent": {
   "slides": {
    "0a557e4d-6a33-44b4-a6cd-108d6b3baa4c": {
     "id": "0a557e4d-6a33-44b4-a6cd-108d6b3baa4c",
     "prev": "31cd582a-885f-4df0-8a80-be0d149f065d",
     "regions": {
      "e76dfd0a-36c0-4f8f-a6de-a4b43e760cf6": {
       "attrs": {
        "height": 0.8,
        "width": 0.8,
        "x": 0.1,
        "y": 0.1
       },
       "content": {
        "cell": "b1c2db54-415f-4de9-8cee-5a2b90cc92ee",
        "part": "whole"
       },
       "id": "e76dfd0a-36c0-4f8f-a6de-a4b43e760cf6"
      }
     }
    },
    "102a2fda-ff93-42be-9f89-09c9f426a34b": {
     "id": "102a2fda-ff93-42be-9f89-09c9f426a34b",
     "prev": "41b79f15-df2c-401a-a151-b184596e4491",
     "regions": {
      "b683e0cb-579e-4d66-afa8-8502426ec8e7": {
       "attrs": {
        "height": 0.8,
        "width": 0.8,
        "x": 0.1,
        "y": 0.1
       },
       "content": {
        "cell": "0eadd8b0-517f-4d7a-86c6-8380371167cc",
        "part": "whole"
       },
       "id": "b683e0cb-579e-4d66-afa8-8502426ec8e7"
      }
     }
    },
    "1be3eb3c-35f1-4dbf-bfd0-9338114682c2": {
     "id": "1be3eb3c-35f1-4dbf-bfd0-9338114682c2",
     "prev": "a170b309-6cc0-4832-9608-fc78a7ba7279",
     "regions": {
      "4c38eb10-be24-4e8e-8b53-c566d489f07e": {
       "attrs": {
        "height": 0.8,
        "width": 0.8,
        "x": 0.1,
        "y": 0.1
       },
       "content": {
        "cell": "3ecbe78f-cc47-4f09-8f7e-0120434a51e2",
        "part": "whole"
       },
       "id": "4c38eb10-be24-4e8e-8b53-c566d489f07e"
      }
     }
    },
    "23738303-6026-4adb-b9f8-69c863d346d8": {
     "id": "23738303-6026-4adb-b9f8-69c863d346d8",
     "prev": "b21be4d5-dde7-409f-abe7-7b6945583596",
     "regions": {
      "05812982-7a77-435c-9296-89d354f122dc": {
       "attrs": {
        "height": 0.8,
        "width": 0.8,
        "x": 0.1,
        "y": 0.1
       },
       "content": {
        "cell": "3ee28122-a48d-4ccc-be08-a9b7a9c9625c",
        "part": "whole"
       },
       "id": "05812982-7a77-435c-9296-89d354f122dc"
      }
     }
    },
    "29c2386c-91c0-4f01-9e06-51ffae239040": {
     "id": "29c2386c-91c0-4f01-9e06-51ffae239040",
     "prev": "31a0a178-799e-4490-a8c3-8634bfdcf339",
     "regions": {
      "ab1e613d-b228-4daf-8ede-57434ffd5b9f": {
       "attrs": {
        "height": 0.8,
        "width": 0.8,
        "x": 0.1,
        "y": 0.1
       },
       "content": {
        "cell": "ba8b935d-9313-4e7f-a432-85549100e541",
        "part": "whole"
       },
       "id": "ab1e613d-b228-4daf-8ede-57434ffd5b9f"
      }
     }
    },
    "2b98fcad-b0c3-4a7c-af32-96b134d521e6": {
     "id": "2b98fcad-b0c3-4a7c-af32-96b134d521e6",
     "prev": "0a557e4d-6a33-44b4-a6cd-108d6b3baa4c",
     "regions": {
      "0446d8d1-79c3-4ee5-9462-a7d855c1fe2c": {
       "attrs": {
        "height": 0.8,
        "width": 0.8,
        "x": 0.1,
        "y": 0.1
       },
       "content": {
        "cell": "e0c62c1f-f1ce-4478-8833-83479302346f",
        "part": "whole"
       },
       "id": "0446d8d1-79c3-4ee5-9462-a7d855c1fe2c"
      }
     }
    },
    "2ca8ee80-e590-493b-a661-1625bda74100": {
     "id": "2ca8ee80-e590-493b-a661-1625bda74100",
     "prev": "353f6bea-57a6-4544-8df7-024a04cb9ba8",
     "regions": {
      "08125aa1-d3f6-4463-bdd1-b3f1f3c5efb7": {
       "attrs": {
        "height": 0.8,
        "width": 0.8,
        "x": 0.1,
        "y": 0.1
       },
       "content": {
        "cell": "af52780b-ff8e-4308-9afe-eb34caa24a33",
        "part": "whole"
       },
       "id": "08125aa1-d3f6-4463-bdd1-b3f1f3c5efb7"
      }
     }
    },
    "314eda91-ca4a-4e04-96ff-3a7ef6de3b9a": {
     "id": "314eda91-ca4a-4e04-96ff-3a7ef6de3b9a",
     "prev": "82fe280b-95d2-4c70-b6d1-fc10f8007662",
     "regions": {
      "0927bf15-ca37-479e-8afb-80d606541d1c": {
       "attrs": {
        "height": 0.8,
        "width": 0.8,
        "x": 0.1,
        "y": 0.1
       },
       "content": {
        "cell": "be2de7ed-1e83-4e22-99b2-b0da49950f3a",
        "part": "whole"
       },
       "id": "0927bf15-ca37-479e-8afb-80d606541d1c"
      }
     }
    },
    "31a0a178-799e-4490-a8c3-8634bfdcf339": {
     "id": "31a0a178-799e-4490-a8c3-8634bfdcf339",
     "prev": "480a6b7c-ef19-45bb-9c72-eee6b7e36edf",
     "regions": {
      "0fab9e4f-47ec-4e08-ae27-4b5a6a629068": {
       "attrs": {
        "height": 0.8,
        "width": 0.8,
        "x": 0.1,
        "y": 0.1
       },
       "content": {
        "cell": "c8f2444d-5620-46f0-927e-e567a88df797",
        "part": "whole"
       },
       "id": "0fab9e4f-47ec-4e08-ae27-4b5a6a629068"
      }
     }
    },
    "31cd582a-885f-4df0-8a80-be0d149f065d": {
     "id": "31cd582a-885f-4df0-8a80-be0d149f065d",
     "prev": "c18a7cb4-90ba-4c0e-8e99-27be319c132e",
     "regions": {
      "f63a0965-c391-4341-b6b9-ba192a9078e3": {
       "attrs": {
        "height": 0.8,
        "width": 0.8,
        "x": 0.1,
        "y": 0.1
       },
       "content": {
        "cell": "a586efb8-38a9-4280-9ecb-4be8f651881e",
        "part": "whole"
       },
       "id": "f63a0965-c391-4341-b6b9-ba192a9078e3"
      }
     }
    },
    "331c2ae4-d322-40f1-bfd4-7ac86a1d1b38": {
     "id": "331c2ae4-d322-40f1-bfd4-7ac86a1d1b38",
     "prev": "bedee425-b2cb-4e24-a145-a4e9cbfc2ba9",
     "regions": {
      "4e5c5656-2ee6-4da1-bb8a-578526452231": {
       "attrs": {
        "height": 0.8,
        "width": 0.8,
        "x": 0.1,
        "y": 0.1
       },
       "content": {
        "cell": "3ac7876f-20da-4c8b-bade-e0b1f6e2d01b",
        "part": "whole"
       },
       "id": "4e5c5656-2ee6-4da1-bb8a-578526452231"
      }
     }
    },
    "353f6bea-57a6-4544-8df7-024a04cb9ba8": {
     "id": "353f6bea-57a6-4544-8df7-024a04cb9ba8",
     "prev": "102a2fda-ff93-42be-9f89-09c9f426a34b",
     "regions": {
      "c1732ead-5d19-4d91-8fa2-53ec3b3747e4": {
       "attrs": {
        "height": 0.8,
        "width": 0.8,
        "x": 0.1,
        "y": 0.1
       },
       "content": {
        "cell": "7f10b88c-6680-4a32-a283-eb4a9f57be04",
        "part": "whole"
       },
       "id": "c1732ead-5d19-4d91-8fa2-53ec3b3747e4"
      }
     }
    },
    "37aa27fd-0dae-404d-bc06-9ef9e2783640": {
     "id": "37aa27fd-0dae-404d-bc06-9ef9e2783640",
     "prev": "a5bab63d-9d18-4f2f-8e0f-7f701470c8fb",
     "regions": {
      "6ff47569-bd33-4d75-8638-e9a67c6ea87b": {
       "attrs": {
        "height": 0.8,
        "width": 0.8,
        "x": 0.1,
        "y": 0.1
       },
       "content": {
        "cell": "b253ce3b-fcd9-4afa-9980-fa8938b8be78",
        "part": "whole"
       },
       "id": "6ff47569-bd33-4d75-8638-e9a67c6ea87b"
      }
     }
    },
    "41b79f15-df2c-401a-a151-b184596e4491": {
     "id": "41b79f15-df2c-401a-a151-b184596e4491",
     "prev": "f1b89ebd-f8da-4487-9f7b-781a15020049",
     "regions": {
      "de710e6e-de34-41b9-9485-484b19777c9c": {
       "attrs": {
        "height": 0.8,
        "width": 0.8,
        "x": 0.1,
        "y": 0.1
       },
       "content": {
        "cell": "2e113e67-e6e4-4859-9ce2-8e49774a3b77",
        "part": "whole"
       },
       "id": "de710e6e-de34-41b9-9485-484b19777c9c"
      }
     }
    },
    "480a6b7c-ef19-45bb-9c72-eee6b7e36edf": {
     "id": "480a6b7c-ef19-45bb-9c72-eee6b7e36edf",
     "prev": "94192388-63ea-4c38-8532-8627144f1ae9",
     "regions": {
      "595cc098-7b08-46d6-a430-1ce65012af17": {
       "attrs": {
        "height": 0.8,
        "width": 0.8,
        "x": 0.1,
        "y": 0.1
       },
       "content": {
        "cell": "e9927dc0-e260-4ce7-8e1a-57f6a01c3f18",
        "part": "whole"
       },
       "id": "595cc098-7b08-46d6-a430-1ce65012af17"
      }
     }
    },
    "5d83b7ba-5692-47da-9f2c-897585ac7105": {
     "id": "5d83b7ba-5692-47da-9f2c-897585ac7105",
     "prev": "2b98fcad-b0c3-4a7c-af32-96b134d521e6",
     "regions": {
      "9e0c79bd-9e08-4684-b01a-aa4eb7951b01": {
       "attrs": {
        "height": 0.8,
        "width": 0.8,
        "x": 0.1,
        "y": 0.1
       },
       "content": {
        "cell": "fafb5f4a-44b6-4dc9-8a53-c2c57494defc",
        "part": "whole"
       },
       "id": "9e0c79bd-9e08-4684-b01a-aa4eb7951b01"
      }
     }
    },
    "5e1b8089-d26c-4b5b-aa2f-57af574aedcd": {
     "id": "5e1b8089-d26c-4b5b-aa2f-57af574aedcd",
     "prev": "e5d31b08-5b32-42b7-bd82-8766458a76ed",
     "regions": {
      "6924be47-cb78-4952-a844-7c2bfb5d8902": {
       "attrs": {
        "height": 0.8,
        "width": 0.8,
        "x": 0.1,
        "y": 0.1
       },
       "content": {
        "cell": "704ef48e-1cc1-40ba-a6ba-776ec1ad2502",
        "part": "whole"
       },
       "id": "6924be47-cb78-4952-a844-7c2bfb5d8902"
      }
     }
    },
    "62a8cfe0-17df-4f07-860f-95d5c5d160b9": {
     "id": "62a8cfe0-17df-4f07-860f-95d5c5d160b9",
     "prev": "2ca8ee80-e590-493b-a661-1625bda74100",
     "regions": {
      "744e12c6-b44c-46a4-9bb3-44c2f2cf6557": {
       "attrs": {
        "height": 0.8,
        "width": 0.8,
        "x": 0.1,
        "y": 0.1
       },
       "content": {
        "cell": "749ba741-8d05-451f-b6e1-71751749d85e",
        "part": "whole"
       },
       "id": "744e12c6-b44c-46a4-9bb3-44c2f2cf6557"
      }
     }
    },
    "668dd398-8d12-4c63-adda-2786a4e145d7": {
     "id": "668dd398-8d12-4c63-adda-2786a4e145d7",
     "prev": "5e1b8089-d26c-4b5b-aa2f-57af574aedcd",
     "regions": {
      "e77d204d-dfdc-4cbc-ac64-de1600186493": {
       "attrs": {
        "height": 0.8,
        "width": 0.8,
        "x": 0.1,
        "y": 0.1
       },
       "content": {
        "cell": "fce6e930-620a-45e5-b38b-5830d0bf4119",
        "part": "whole"
       },
       "id": "e77d204d-dfdc-4cbc-ac64-de1600186493"
      }
     }
    },
    "6ee3fbc3-883a-46ec-875b-9aec4af0a1cf": {
     "id": "6ee3fbc3-883a-46ec-875b-9aec4af0a1cf",
     "prev": "314eda91-ca4a-4e04-96ff-3a7ef6de3b9a",
     "regions": {
      "71cf8301-a100-4b6e-bfbd-52db47e13e2a": {
       "attrs": {
        "height": 0.8,
        "width": 0.8,
        "x": 0.1,
        "y": 0.1
       },
       "content": {
        "cell": "868ee299-d756-458e-bcbf-71ef3b36b816",
        "part": "whole"
       },
       "id": "71cf8301-a100-4b6e-bfbd-52db47e13e2a"
      }
     }
    },
    "745f3854-381f-45c3-afe5-a57aa41ac959": {
     "id": "745f3854-381f-45c3-afe5-a57aa41ac959",
     "prev": "f6cfe4a0-c281-4657-bb9f-cdea8ff87df5",
     "regions": {
      "d24487a5-797a-4505-9cb1-3e0dd2c5d819": {
       "attrs": {
        "height": 0.8,
        "width": 0.8,
        "x": 0.1,
        "y": 0.1
       },
       "content": {
        "cell": "69db293d-6e3a-47d4-825c-99e50b87fc2b",
        "part": "whole"
       },
       "id": "d24487a5-797a-4505-9cb1-3e0dd2c5d819"
      }
     }
    },
    "7912450c-e16f-4480-bdfe-415e88cf8432": {
     "id": "7912450c-e16f-4480-bdfe-415e88cf8432",
     "prev": "745f3854-381f-45c3-afe5-a57aa41ac959",
     "regions": {
      "c9653549-df42-4c42-8854-7afb8ca3ef96": {
       "attrs": {
        "height": 0.8,
        "width": 0.8,
        "x": 0.1,
        "y": 0.1
       },
       "content": {
        "cell": "8c2a735d-0431-45c3-a928-f1b01ccd4288",
        "part": "whole"
       },
       "id": "c9653549-df42-4c42-8854-7afb8ca3ef96"
      }
     }
    },
    "7bd7f31e-b3fe-41b1-8b35-a4dd5b358ff1": {
     "id": "7bd7f31e-b3fe-41b1-8b35-a4dd5b358ff1",
     "prev": "92918ccd-cded-4b13-bb1a-e9f102835fa2",
     "regions": {
      "cbcbfb24-fc52-42f5-ba65-f6ceec371b51": {
       "attrs": {
        "height": 0.8,
        "width": 0.8,
        "x": 0.1,
        "y": 0.1
       },
       "content": {
        "cell": "c27e0df2-640a-4564-812b-095c60708cec",
        "part": "whole"
       },
       "id": "cbcbfb24-fc52-42f5-ba65-f6ceec371b51"
      }
     }
    },
    "82fe280b-95d2-4c70-b6d1-fc10f8007662": {
     "id": "82fe280b-95d2-4c70-b6d1-fc10f8007662",
     "prev": "b978c6db-60ce-400c-9107-479eb8ae0819",
     "regions": {
      "5e67c64b-6ddc-40e5-a3d9-9f6f2d6c7456": {
       "attrs": {
        "height": 0.8,
        "width": 0.8,
        "x": 0.1,
        "y": 0.1
       },
       "content": {
        "cell": "1047fe97-92e0-4781-ae8b-f612dffcfb9c",
        "part": "whole"
       },
       "id": "5e67c64b-6ddc-40e5-a3d9-9f6f2d6c7456"
      }
     }
    },
    "917f24e5-664b-407f-abc8-77e1a7f580d2": {
     "id": "917f24e5-664b-407f-abc8-77e1a7f580d2",
     "prev": "b0e0b7c8-d578-4752-9a41-96e945a2040e",
     "regions": {
      "4f4a204f-8b2e-49cb-82fd-dcc97004b360": {
       "attrs": {
        "height": 0.8,
        "width": 0.8,
        "x": 0.1,
        "y": 0.1
       },
       "content": {
        "cell": "b0c8ca5f-bde4-48b8-9dc3-bb4bc006a729",
        "part": "whole"
       },
       "id": "4f4a204f-8b2e-49cb-82fd-dcc97004b360"
      }
     }
    },
    "92918ccd-cded-4b13-bb1a-e9f102835fa2": {
     "id": "92918ccd-cded-4b13-bb1a-e9f102835fa2",
     "prev": "b44e0881-e95b-4687-a704-c3a49672dcad",
     "regions": {
      "49c93d38-6647-4017-b917-008f219add5d": {
       "attrs": {
        "height": 0.8,
        "width": 0.8,
        "x": 0.1,
        "y": 0.1
       },
       "content": {
        "cell": "e34ceec0-7148-482d-b7f9-8fbfec0ecf63",
        "part": "whole"
       },
       "id": "49c93d38-6647-4017-b917-008f219add5d"
      }
     }
    },
    "94192388-63ea-4c38-8532-8627144f1ae9": {
     "id": "94192388-63ea-4c38-8532-8627144f1ae9",
     "prev": "5d83b7ba-5692-47da-9f2c-897585ac7105",
     "regions": {
      "10bab712-a8fb-4da2-ac4a-c55f130a14a1": {
       "attrs": {
        "height": 0.8,
        "width": 0.8,
        "x": 0.1,
        "y": 0.1
       },
       "content": {
        "cell": "4a5133ea-5711-4bfa-9d72-17e3d202e4db",
        "part": "whole"
       },
       "id": "10bab712-a8fb-4da2-ac4a-c55f130a14a1"
      }
     }
    },
    "9ab8ee4e-7d7c-4018-a740-9370dc0582cf": {
     "id": "9ab8ee4e-7d7c-4018-a740-9370dc0582cf",
     "prev": "6ee3fbc3-883a-46ec-875b-9aec4af0a1cf",
     "regions": {
      "4fd4e49a-cc48-4453-a32c-341dbdd3c850": {
       "attrs": {
        "height": 0.8,
        "width": 0.8,
        "x": 0.1,
        "y": 0.1
       },
       "content": {
        "cell": "3e2e32f1-39b7-4cb9-955a-f68df8ba0307",
        "part": "whole"
       },
       "id": "4fd4e49a-cc48-4453-a32c-341dbdd3c850"
      }
     }
    },
    "a170b309-6cc0-4832-9608-fc78a7ba7279": {
     "id": "a170b309-6cc0-4832-9608-fc78a7ba7279",
     "prev": "7912450c-e16f-4480-bdfe-415e88cf8432",
     "regions": {
      "82473eb3-bbcc-4515-93bc-2b3d1b290e89": {
       "attrs": {
        "height": 0.8,
        "width": 0.8,
        "x": 0.1,
        "y": 0.1
       },
       "content": {
        "cell": "a9241438-fbf8-4216-a71f-bff25b00eb8a",
        "part": "whole"
       },
       "id": "82473eb3-bbcc-4515-93bc-2b3d1b290e89"
      }
     }
    },
    "a5bab63d-9d18-4f2f-8e0f-7f701470c8fb": {
     "id": "a5bab63d-9d18-4f2f-8e0f-7f701470c8fb",
     "prev": "ed4eb76d-859b-4508-929d-10b55c715545",
     "regions": {
      "2a469eb0-9086-4a5e-b3a1-0d9de808a1b0": {
       "attrs": {
        "height": 0.8,
        "width": 0.8,
        "x": 0.1,
        "y": 0.1
       },
       "content": {
        "cell": "607d6dab-1066-4d4b-961a-3daa2094afba",
        "part": "whole"
       },
       "id": "2a469eb0-9086-4a5e-b3a1-0d9de808a1b0"
      }
     }
    },
    "b06c0530-efc8-4978-8739-7e48745f0387": {
     "id": "b06c0530-efc8-4978-8739-7e48745f0387",
     "prev": "29c2386c-91c0-4f01-9e06-51ffae239040",
     "regions": {
      "1a7214f0-b7e5-4fa6-b9a0-b4f401618729": {
       "attrs": {
        "height": 0.8,
        "width": 0.8,
        "x": 0.1,
        "y": 0.1
       },
       "content": {
        "cell": "8e3d8d34-e934-4623-85ea-df3c213923c0",
        "part": "whole"
       },
       "id": "1a7214f0-b7e5-4fa6-b9a0-b4f401618729"
      }
     }
    },
    "b0e0b7c8-d578-4752-9a41-96e945a2040e": {
     "id": "b0e0b7c8-d578-4752-9a41-96e945a2040e",
     "prev": "c28970c1-65a6-40b3-9cb6-c634b7882c76",
     "regions": {
      "b0f4b90e-0252-460d-ab14-79a54ef58ccc": {
       "attrs": {
        "height": 0.8,
        "width": 0.8,
        "x": 0.1,
        "y": 0.1
       },
       "content": {
        "cell": "a7f0b450-4172-4c56-8241-5d180c7507eb",
        "part": "whole"
       },
       "id": "b0f4b90e-0252-460d-ab14-79a54ef58ccc"
      }
     }
    },
    "b21be4d5-dde7-409f-abe7-7b6945583596": {
     "id": "b21be4d5-dde7-409f-abe7-7b6945583596",
     "prev": "62a8cfe0-17df-4f07-860f-95d5c5d160b9",
     "regions": {
      "88963bec-5527-41f9-9567-2fb592f3e86a": {
       "attrs": {
        "height": 0.8,
        "width": 0.8,
        "x": 0.1,
        "y": 0.1
       },
       "content": {
        "cell": "76cecf45-186a-4779-a1c9-0ca9943f0e3e",
        "part": "whole"
       },
       "id": "88963bec-5527-41f9-9567-2fb592f3e86a"
      }
     }
    },
    "b261b9b5-a8c5-40f2-a825-160f668042fe": {
     "id": "b261b9b5-a8c5-40f2-a825-160f668042fe",
     "prev": "da5265b8-24ec-477b-bc61-eedb8563f834",
     "regions": {
      "482f9146-fb23-4b56-bf8a-35f894efa1c1": {
       "attrs": {
        "height": 0.8,
        "width": 0.8,
        "x": 0.1,
        "y": 0.1
       },
       "content": {
        "cell": "1daea200-37a2-4a73-af5b-e4f42b10b0ad",
        "part": "whole"
       },
       "id": "482f9146-fb23-4b56-bf8a-35f894efa1c1"
      }
     }
    },
    "b44e0881-e95b-4687-a704-c3a49672dcad": {
     "id": "b44e0881-e95b-4687-a704-c3a49672dcad",
     "prev": "917f24e5-664b-407f-abc8-77e1a7f580d2",
     "regions": {
      "07db398f-6966-4537-a93f-5b7d97860c74": {
       "attrs": {
        "height": 0.8,
        "width": 0.8,
        "x": 0.1,
        "y": 0.1
       },
       "content": {
        "cell": "361f7f15-7b61-465c-9eb4-fb637ed04da2",
        "part": "whole"
       },
       "id": "07db398f-6966-4537-a93f-5b7d97860c74"
      }
     }
    },
    "b978c6db-60ce-400c-9107-479eb8ae0819": {
     "id": "b978c6db-60ce-400c-9107-479eb8ae0819",
     "prev": null,
     "regions": {
      "9f2ba525-8d09-4524-85ce-52a4ad4dbf0b": {
       "attrs": {
        "height": 0.8,
        "width": 0.8,
        "x": 0.1,
        "y": 0.1
       },
       "content": {
        "cell": "03f390b1-911f-4850-8c79-4481098e1a03",
        "part": "whole"
       },
       "id": "9f2ba525-8d09-4524-85ce-52a4ad4dbf0b"
      }
     }
    },
    "bedee425-b2cb-4e24-a145-a4e9cbfc2ba9": {
     "id": "bedee425-b2cb-4e24-a145-a4e9cbfc2ba9",
     "prev": "9ab8ee4e-7d7c-4018-a740-9370dc0582cf",
     "regions": {
      "5f2f77d7-be95-4729-8ed4-aab4e5a3a436": {
       "attrs": {
        "height": 0.8,
        "width": 0.8,
        "x": 0.1,
        "y": 0.1
       },
       "content": {
        "cell": "4c5e3dca-e6a1-4469-bd1c-4754931e0703",
        "part": "whole"
       },
       "id": "5f2f77d7-be95-4729-8ed4-aab4e5a3a436"
      }
     }
    },
    "c18a7cb4-90ba-4c0e-8e99-27be319c132e": {
     "id": "c18a7cb4-90ba-4c0e-8e99-27be319c132e",
     "prev": "c540061d-1be4-45a8-8f13-dfd3d9fd8912",
     "regions": {
      "392e7c57-bea1-4bbb-a536-aa0809f261e4": {
       "attrs": {
        "height": 0.8,
        "width": 0.8,
        "x": 0.1,
        "y": 0.1
       },
       "content": {
        "cell": "4c26e7a3-49c1-458b-9039-8665f657365e",
        "part": "whole"
       },
       "id": "392e7c57-bea1-4bbb-a536-aa0809f261e4"
      }
     }
    },
    "c28970c1-65a6-40b3-9cb6-c634b7882c76": {
     "id": "c28970c1-65a6-40b3-9cb6-c634b7882c76",
     "prev": "1be3eb3c-35f1-4dbf-bfd0-9338114682c2",
     "regions": {
      "b5c46200-952e-46a9-8750-57caff31a624": {
       "attrs": {
        "height": 0.8,
        "width": 0.8,
        "x": 0.1,
        "y": 0.1
       },
       "content": {
        "cell": "9e58b20d-fca0-4c02-9454-84b2392d4e1d",
        "part": "whole"
       },
       "id": "b5c46200-952e-46a9-8750-57caff31a624"
      }
     }
    },
    "c540061d-1be4-45a8-8f13-dfd3d9fd8912": {
     "id": "c540061d-1be4-45a8-8f13-dfd3d9fd8912",
     "prev": "7bd7f31e-b3fe-41b1-8b35-a4dd5b358ff1",
     "regions": {
      "25233b46-03de-4a3e-8ba2-b6a4c0ab4c17": {
       "attrs": {
        "height": 0.8,
        "width": 0.8,
        "x": 0.1,
        "y": 0.1
       },
       "content": {
        "cell": "659ba240-a9c8-4e55-86e4-e1a40930bc39",
        "part": "whole"
       },
       "id": "25233b46-03de-4a3e-8ba2-b6a4c0ab4c17"
      }
     }
    },
    "da5265b8-24ec-477b-bc61-eedb8563f834": {
     "id": "da5265b8-24ec-477b-bc61-eedb8563f834",
     "prev": "23738303-6026-4adb-b9f8-69c863d346d8",
     "regions": {
      "acfef54a-bb4e-4ad3-9209-19c6d187a8c7": {
       "attrs": {
        "height": 0.8,
        "width": 0.8,
        "x": 0.1,
        "y": 0.1
       },
       "content": {
        "cell": "96f3ad32-88c6-46c8-a9e7-65b1cb4daf63",
        "part": "whole"
       },
       "id": "acfef54a-bb4e-4ad3-9209-19c6d187a8c7"
      }
     }
    },
    "e5d31b08-5b32-42b7-bd82-8766458a76ed": {
     "id": "e5d31b08-5b32-42b7-bd82-8766458a76ed",
     "prev": "37aa27fd-0dae-404d-bc06-9ef9e2783640",
     "regions": {
      "1b38b6fc-9467-4cc2-9896-fe868208bf1e": {
       "attrs": {
        "height": 0.8,
        "width": 0.8,
        "x": 0.1,
        "y": 0.1
       },
       "content": {
        "cell": "7e53ec83-b501-40b5-9f8f-d39e52aaaa65",
        "part": "whole"
       },
       "id": "1b38b6fc-9467-4cc2-9896-fe868208bf1e"
      }
     }
    },
    "eb93efa7-95c1-4f89-90f1-00e7bfc81e2e": {
     "id": "eb93efa7-95c1-4f89-90f1-00e7bfc81e2e",
     "prev": "668dd398-8d12-4c63-adda-2786a4e145d7",
     "regions": {
      "f18243cd-313d-49dd-8445-4afea9e6535d": {
       "attrs": {
        "height": 0.8,
        "width": 0.8,
        "x": 0.1,
        "y": 0.1
       },
       "content": {
        "cell": "57b1dd0e-0a20-4dcf-8512-ee90bac1fdb5",
        "part": "whole"
       },
       "id": "f18243cd-313d-49dd-8445-4afea9e6535d"
      }
     }
    },
    "ed4eb76d-859b-4508-929d-10b55c715545": {
     "id": "ed4eb76d-859b-4508-929d-10b55c715545",
     "prev": "331c2ae4-d322-40f1-bfd4-7ac86a1d1b38",
     "regions": {
      "60970df2-be18-4b08-8e4d-7c7a2dc45e0e": {
       "attrs": {
        "height": 0.8,
        "width": 0.8,
        "x": 0.1,
        "y": 0.1
       },
       "content": {
        "cell": "b6197294-c8f2-4078-b090-e857ac07698c",
        "part": "whole"
       },
       "id": "60970df2-be18-4b08-8e4d-7c7a2dc45e0e"
      }
     }
    },
    "f1b89ebd-f8da-4487-9f7b-781a15020049": {
     "id": "f1b89ebd-f8da-4487-9f7b-781a15020049",
     "prev": "b06c0530-efc8-4978-8739-7e48745f0387",
     "regions": {
      "ec2512ac-127c-4960-9bb7-e6b339b28c39": {
       "attrs": {
        "height": 0.8,
        "width": 0.8,
        "x": 0.1,
        "y": 0.1
       },
       "content": {
        "cell": "b7c88b95-fda0-413a-90c7-43950f1c6ff1",
        "part": "whole"
       },
       "id": "ec2512ac-127c-4960-9bb7-e6b339b28c39"
      }
     }
    },
    "f6cfe4a0-c281-4657-bb9f-cdea8ff87df5": {
     "id": "f6cfe4a0-c281-4657-bb9f-cdea8ff87df5",
     "prev": "eb93efa7-95c1-4f89-90f1-00e7bfc81e2e",
     "regions": {
      "69ae87ed-f69b-4ef8-bcab-a345c2a2301e": {
       "attrs": {
        "height": 0.8,
        "width": 0.8,
        "x": 0.1,
        "y": 0.1
       },
       "content": {
        "cell": "42d973b8-2d71-4052-a0ce-e6f761305705",
        "part": "whole"
       },
       "id": "69ae87ed-f69b-4ef8-bcab-a345c2a2301e"
      }
     }
    }
   },
   "themes": {}
  }
 },
 "nbformat": 4,
 "nbformat_minor": 2
}
