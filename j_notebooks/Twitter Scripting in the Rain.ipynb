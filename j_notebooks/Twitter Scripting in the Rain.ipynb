{
 "cells": [
  {
   "cell_type": "markdown",
   "metadata": {},
   "source": [
    "\n",
    "# Twitter Scripting in the Rain\n",
    "## Lessons learned ;)\n",
    "\n",
    "### Happened during 10th October\n",
    "The quintessential problem with data streaming is that you need to be able to launch your program at the right moment, and you also need to be able to keep it running throughout the time period you want to stream. \n",
    "\n",
    "* <font color=green> Our initial goal was to stream tweets during and after Puigdemont's speech. We started streaming, only to find out a few minutes later the speech had been postponed by an hour! The problem for us was that we were working from the university, and the building was closing. \n",
    "\n",
    "* The speech finally started, and we started streaming for the second time, only to be forced to leave the building almost immediately. The plan B: keep the program running while getting home, with the use of mobile wifi. Of course as one would expect, it was absolutely pouring down with rain that night. It was truly an experience to try to keep my laptop from getting rained on, making sure the program is still running, running to catch a tram, and traveling home for 40 minutes. \n",
    "\n",
    "In the end we got over __1,3 GB of streamed data__ to use for testing. We didn't end up using the data for actual analysis, but it was a good learning opportunity and helped us to get grasp of the technicalities of streaming data (on the go). In retrospect we can say that it was a memorable experience. </font> \n",
    "\n",
    "*Oh and don't worry, no laptops suffered water damage during the process!*"
   ]
  },
  {
   "cell_type": "code",
   "execution_count": null,
   "metadata": {
    "collapsed": true
   },
   "outputs": [],
   "source": [
    "# this piece of code will only stream tweets published at the exact moment with certain hashtags, without storing them anywhere\n",
    "\n",
    "'''Twitter API streaming'''\n",
    "\n",
    "import tweepy\n",
    "from tweepy import OAuthHandler\n",
    "from tweepy import Stream\n",
    "from tweepy.streaming import StreamListener\n",
    "\n",
    "# authentication\n",
    "\n",
    "consumer_key = 'ADD'\n",
    "consumer_secret = 'ADD'\n",
    "access_token = 'ADD'\n",
    "access_secret = 'ADD'\n",
    "\n",
    "auth = OAuthHandler(consumer_key, consumer_secret)\n",
    "auth.set_access_token(access_token, access_secret)\n",
    "\n",
    "api = tweepy.API(auth)\n",
    "\n",
    "class StdOutListener(StreamListener):\n",
    "\n",
    "    def on_data(self, data):\n",
    "        print(data)\n",
    "        return True\n",
    "\n",
    "    def on_error(self, status):\n",
    "        print (status)\n",
    "\n",
    "\n",
    "if __name__ == '__main__':\n",
    "\n",
    "    #This handles Twitter authetification and the connection to Twitter Streaming API\n",
    "    l = StdOutListener()\n",
    "    auth = OAuthHandler(consumer_key, consumer_secret)\n",
    "    auth.set_access_token(access_token, access_secret)\n",
    "    stream = Stream(auth, l)\n",
    "\n",
    "    #This line filter Twitter Streams to capture data by the given hashtags\n",
    "stream.filter(track=['#catalonia', '#ReferendumCatalonia'])"
   ]
  }
 ],
 "metadata": {
  "kernelspec": {
   "display_name": "Python 3",
   "language": "python",
   "name": "python3"
  },
  "language_info": {
   "codemirror_mode": {
    "name": "ipython",
    "version": 3
   },
   "file_extension": ".py",
   "mimetype": "text/x-python",
   "name": "python",
   "nbconvert_exporter": "python",
   "pygments_lexer": "ipython3",
   "version": "3.6.2"
  }
 },
 "nbformat": 4,
 "nbformat_minor": 2
}
